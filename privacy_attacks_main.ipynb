{
  "nbformat": 4,
  "nbformat_minor": 0,
  "metadata": {
    "colab": {
      "name": "privacy_attacks_main.ipynb",
      "provenance": [],
      "collapsed_sections": [],
      "machine_shape": "hm",
      "include_colab_link": true
    },
    "kernelspec": {
      "name": "python3",
      "display_name": "Python 3"
    },
    "language_info": {
      "name": "python"
    },
    "accelerator": "GPU"
  },
  "cells": [
    {
      "cell_type": "markdown",
      "metadata": {
        "id": "view-in-github",
        "colab_type": "text"
      },
      "source": [
        "<a href=\"https://colab.research.google.com/github/bhagirathtallapragada/Secure-AI-project-phase2/blob/main/privacy_attacks_main.ipynb\" target=\"_parent\"><img src=\"https://colab.research.google.com/assets/colab-badge.svg\" alt=\"Open In Colab\"/></a>"
      ]
    },
    {
      "cell_type": "markdown",
      "metadata": {
        "id": "dv_Gd7Jpl5ZQ"
      },
      "source": [
        "In this section I implement membership inference attack to evaluate the privacy of a trained model, using tensorflow privacy.\n",
        "\n",
        "The attack implemented is Threshold attack"
      ]
    },
    {
      "cell_type": "code",
      "metadata": {
        "id": "N8GN7-WlxJCP"
      },
      "source": [
        "import numpy as np\n",
        "import matplotlib.pyplot as plt\n",
        "import tensorflow as tf\n",
        "from scipy import special\n",
        "from tensorflow.keras.layers import Input, Conv2D, Dense, Flatten, MaxPooling2D,Dropout\n",
        "from tensorflow.keras.models import Model\n",
        "from tensorflow.keras.utils import to_categorical"
      ],
      "execution_count": 1,
      "outputs": []
    },
    {
      "cell_type": "markdown",
      "metadata": {
        "id": "jV-_MV_3R5-T"
      },
      "source": [
        "The following implementation of the membership inference attacks is heavily based on the following tutorial:\n",
        "https://www.google.com/url?q=https://franziska-boenisch.de/posts/2021/01/membership-inference/&sa=D&source=hangouts&ust=1638671355428000&usg=AOvVaw2VS8p2Bs0Du0Fv7ymQVDFV"
      ]
    },
    {
      "cell_type": "code",
      "metadata": {
        "id": "FN4mdDbPxe9y",
        "colab": {
          "base_uri": "https://localhost:8080/"
        },
        "outputId": "e91c8425-5dd4-4d37-d5ed-bf5e9f148d6b"
      },
      "source": [
        "!pip install -U git+https://github.com/tensorflow/privacy"
      ],
      "execution_count": 2,
      "outputs": [
        {
          "output_type": "stream",
          "name": "stdout",
          "text": [
            "Collecting git+https://github.com/tensorflow/privacy\n",
            "  Cloning https://github.com/tensorflow/privacy to /tmp/pip-req-build-xnmqxwfm\n",
            "  Running command git clone -q https://github.com/tensorflow/privacy /tmp/pip-req-build-xnmqxwfm\n",
            "Requirement already satisfied: scipy>=0.17 in /usr/local/lib/python3.7/dist-packages (from tensorflow-privacy==0.7.3) (1.4.1)\n",
            "Requirement already satisfied: tensorflow-estimator>=2.3.0 in /usr/local/lib/python3.7/dist-packages (from tensorflow-privacy==0.7.3) (2.7.0)\n",
            "Requirement already satisfied: attrs>=21.2.0 in /usr/local/lib/python3.7/dist-packages (from tensorflow-privacy==0.7.3) (21.2.0)\n",
            "Requirement already satisfied: mpmath in /usr/local/lib/python3.7/dist-packages (from tensorflow-privacy==0.7.3) (1.2.1)\n",
            "Requirement already satisfied: dm-tree~=0.1.1 in /usr/local/lib/python3.7/dist-packages (from tensorflow-privacy==0.7.3) (0.1.6)\n",
            "Requirement already satisfied: tensorflow-probability>=0.13.0 in /usr/local/lib/python3.7/dist-packages (from tensorflow-privacy==0.7.3) (0.15.0)\n",
            "Collecting tensorflow-datasets>=4.4.0\n",
            "  Downloading tensorflow_datasets-4.4.0-py3-none-any.whl (4.0 MB)\n",
            "\u001b[K     |████████████████████████████████| 4.0 MB 6.7 MB/s \n",
            "\u001b[?25hRequirement already satisfied: six>=1.12.0 in /usr/local/lib/python3.7/dist-packages (from dm-tree~=0.1.1->tensorflow-privacy==0.7.3) (1.15.0)\n",
            "Requirement already satisfied: numpy>=1.13.3 in /usr/local/lib/python3.7/dist-packages (from scipy>=0.17->tensorflow-privacy==0.7.3) (1.19.5)\n",
            "Requirement already satisfied: promise in /usr/local/lib/python3.7/dist-packages (from tensorflow-datasets>=4.4.0->tensorflow-privacy==0.7.3) (2.3)\n",
            "Requirement already satisfied: importlib-resources in /usr/local/lib/python3.7/dist-packages (from tensorflow-datasets>=4.4.0->tensorflow-privacy==0.7.3) (5.4.0)\n",
            "Requirement already satisfied: requests>=2.19.0 in /usr/local/lib/python3.7/dist-packages (from tensorflow-datasets>=4.4.0->tensorflow-privacy==0.7.3) (2.23.0)\n",
            "Requirement already satisfied: tqdm in /usr/local/lib/python3.7/dist-packages (from tensorflow-datasets>=4.4.0->tensorflow-privacy==0.7.3) (4.62.3)\n",
            "Requirement already satisfied: termcolor in /usr/local/lib/python3.7/dist-packages (from tensorflow-datasets>=4.4.0->tensorflow-privacy==0.7.3) (1.1.0)\n",
            "Requirement already satisfied: future in /usr/local/lib/python3.7/dist-packages (from tensorflow-datasets>=4.4.0->tensorflow-privacy==0.7.3) (0.16.0)\n",
            "Requirement already satisfied: protobuf>=3.12.2 in /usr/local/lib/python3.7/dist-packages (from tensorflow-datasets>=4.4.0->tensorflow-privacy==0.7.3) (3.17.3)\n",
            "Requirement already satisfied: tensorflow-metadata in /usr/local/lib/python3.7/dist-packages (from tensorflow-datasets>=4.4.0->tensorflow-privacy==0.7.3) (1.4.0)\n",
            "Requirement already satisfied: absl-py in /usr/local/lib/python3.7/dist-packages (from tensorflow-datasets>=4.4.0->tensorflow-privacy==0.7.3) (0.12.0)\n",
            "Requirement already satisfied: dill in /usr/local/lib/python3.7/dist-packages (from tensorflow-datasets>=4.4.0->tensorflow-privacy==0.7.3) (0.3.4)\n",
            "Requirement already satisfied: typing-extensions in /usr/local/lib/python3.7/dist-packages (from tensorflow-datasets>=4.4.0->tensorflow-privacy==0.7.3) (3.10.0.2)\n",
            "Requirement already satisfied: idna<3,>=2.5 in /usr/local/lib/python3.7/dist-packages (from requests>=2.19.0->tensorflow-datasets>=4.4.0->tensorflow-privacy==0.7.3) (2.10)\n",
            "Requirement already satisfied: certifi>=2017.4.17 in /usr/local/lib/python3.7/dist-packages (from requests>=2.19.0->tensorflow-datasets>=4.4.0->tensorflow-privacy==0.7.3) (2021.10.8)\n",
            "Requirement already satisfied: urllib3!=1.25.0,!=1.25.1,<1.26,>=1.21.1 in /usr/local/lib/python3.7/dist-packages (from requests>=2.19.0->tensorflow-datasets>=4.4.0->tensorflow-privacy==0.7.3) (1.24.3)\n",
            "Requirement already satisfied: chardet<4,>=3.0.2 in /usr/local/lib/python3.7/dist-packages (from requests>=2.19.0->tensorflow-datasets>=4.4.0->tensorflow-privacy==0.7.3) (3.0.4)\n",
            "Requirement already satisfied: cloudpickle>=1.3 in /usr/local/lib/python3.7/dist-packages (from tensorflow-probability>=0.13.0->tensorflow-privacy==0.7.3) (1.3.0)\n",
            "Requirement already satisfied: gast>=0.3.2 in /usr/local/lib/python3.7/dist-packages (from tensorflow-probability>=0.13.0->tensorflow-privacy==0.7.3) (0.4.0)\n",
            "Requirement already satisfied: decorator in /usr/local/lib/python3.7/dist-packages (from tensorflow-probability>=0.13.0->tensorflow-privacy==0.7.3) (4.4.2)\n",
            "Requirement already satisfied: zipp>=3.1.0 in /usr/local/lib/python3.7/dist-packages (from importlib-resources->tensorflow-datasets>=4.4.0->tensorflow-privacy==0.7.3) (3.6.0)\n",
            "Requirement already satisfied: googleapis-common-protos<2,>=1.52.0 in /usr/local/lib/python3.7/dist-packages (from tensorflow-metadata->tensorflow-datasets>=4.4.0->tensorflow-privacy==0.7.3) (1.53.0)\n",
            "Building wheels for collected packages: tensorflow-privacy\n",
            "  Building wheel for tensorflow-privacy (setup.py) ... \u001b[?25l\u001b[?25hdone\n",
            "  Created wheel for tensorflow-privacy: filename=tensorflow_privacy-0.7.3-py3-none-any.whl size=266056 sha256=ab2ab0e1fc1e8f7d93a9bf3b50b51a76b0bde639a9d41d7fd408b4541d598fe2\n",
            "  Stored in directory: /tmp/pip-ephem-wheel-cache-5yyw39zf/wheels/a8/64/6f/9c838f8bb45e29d4c0b7b872d965250bed1d9ac89f66953b02\n",
            "Successfully built tensorflow-privacy\n",
            "Installing collected packages: tensorflow-datasets, tensorflow-privacy\n",
            "  Attempting uninstall: tensorflow-datasets\n",
            "    Found existing installation: tensorflow-datasets 4.0.1\n",
            "    Uninstalling tensorflow-datasets-4.0.1:\n",
            "      Successfully uninstalled tensorflow-datasets-4.0.1\n",
            "Successfully installed tensorflow-datasets-4.4.0 tensorflow-privacy-0.7.3\n"
          ]
        }
      ]
    },
    {
      "cell_type": "code",
      "metadata": {
        "id": "nQ63ejojyI9M",
        "colab": {
          "base_uri": "https://localhost:8080/"
        },
        "outputId": "5e8e3428-26f1-466d-a64e-b8196b8d7586"
      },
      "source": [
        "from tensorflow_privacy.privacy.membership_inference_attack import membership_inference_attack as mia\n",
        "from tensorflow_privacy.privacy.membership_inference_attack.data_structures import AttackInputData\n",
        "from tensorflow_privacy.privacy.membership_inference_attack.data_structures import SlicingSpec\n",
        "from tensorflow_privacy.privacy.membership_inference_attack.data_structures import AttackType"
      ],
      "execution_count": 3,
      "outputs": [
        {
          "output_type": "stream",
          "name": "stderr",
          "text": [
            "/usr/local/lib/python3.7/dist-packages/tensorflow_privacy/privacy/membership_inference_attack/__init__.py:19: UserWarning: \n",
            "Membership inference attack sources were moved. Please replace\n",
            "import tensorflow_privacy.privacy.membership_inference_attack\n",
            "\n",
            "with\n",
            "import tensorflow_privacy.privacy.privacy_tests.membership_inference_attack\n",
            "  \"\\nMembership inference attack sources were moved. Please replace\"\n"
          ]
        }
      ]
    },
    {
      "cell_type": "code",
      "metadata": {
        "id": "AYs5RlxOyNpk"
      },
      "source": [
        "def load_cifar10():\n",
        "  train, test = tf.keras.datasets.cifar100.load_data()\n",
        "  train_data, train_labels = train\n",
        "  test_data, test_labels = test\n",
        "\n",
        "  # scale the images from color values 0-255 to numbers from 0-1 to help the training process\n",
        "  train_data = np.array(train_data, dtype=np.float32) / 255\n",
        "  test_data = np.array(test_data, dtype=np.float32) / 255\n",
        "\n",
        "  # cifar10 labels come one-hot encoded, there\n",
        "  train_labels = train_labels.flatten()\n",
        "  test_labels = test_labels.flatten()\n",
        "\n",
        "  return train_data, train_labels, test_data, test_labels\n",
        " \n",
        "def make_simple_model():\n",
        "  shape = (32, 32, 3)\n",
        "  i = Input(shape=shape)\n",
        "  x = Conv2D(32, (3, 3), activation='relu')(i)\n",
        "  x = MaxPooling2D()(x)\n",
        "  x = Conv2D(64, (3, 3), activation='relu')(x)\n",
        "  x = MaxPooling2D()(x)\n",
        "  x = Conv2D(64, (3, 3), activation='relu')(x)\n",
        "  x = MaxPooling2D()(x)\n",
        "  x = Flatten()(x)\n",
        "  x = Dense(128, activation='relu')(x)\n",
        "  x = Dense(100)(x)\n",
        "  model = Model(i, x)\n",
        "  return model"
      ],
      "execution_count": 4,
      "outputs": []
    },
    {
      "cell_type": "code",
      "metadata": {
        "id": "_B5WM3bGQTZL",
        "colab": {
          "base_uri": "https://localhost:8080/"
        },
        "outputId": "31d745f7-9a9b-4f4e-8351-b356ad91ea42"
      },
      "source": [
        "train_data, train_labels, test_data, test_labels = load_cifar10()"
      ],
      "execution_count": 5,
      "outputs": [
        {
          "output_type": "stream",
          "name": "stdout",
          "text": [
            "Downloading data from https://www.cs.toronto.edu/~kriz/cifar-100-python.tar.gz\n",
            "169009152/169001437 [==============================] - 4s 0us/step\n",
            "169017344/169001437 [==============================] - 4s 0us/step\n"
          ]
        }
      ]
    },
    {
      "cell_type": "code",
      "metadata": {
        "id": "9vni62VxQHwA",
        "colab": {
          "base_uri": "https://localhost:8080/"
        },
        "outputId": "94444ffe-1525-41f9-c47c-788f912bc7ba"
      },
      "source": [
        "model = make_simple_model()\n",
        "model.summary()"
      ],
      "execution_count": 7,
      "outputs": [
        {
          "output_type": "stream",
          "name": "stdout",
          "text": [
            "Model: \"model\"\n",
            "_________________________________________________________________\n",
            " Layer (type)                Output Shape              Param #   \n",
            "=================================================================\n",
            " input_1 (InputLayer)        [(None, 32, 32, 3)]       0         \n",
            "                                                                 \n",
            " conv2d (Conv2D)             (None, 30, 30, 32)        896       \n",
            "                                                                 \n",
            " max_pooling2d (MaxPooling2D  (None, 15, 15, 32)       0         \n",
            " )                                                               \n",
            "                                                                 \n",
            " conv2d_1 (Conv2D)           (None, 13, 13, 64)        18496     \n",
            "                                                                 \n",
            " max_pooling2d_1 (MaxPooling  (None, 6, 6, 64)         0         \n",
            " 2D)                                                             \n",
            "                                                                 \n",
            " conv2d_2 (Conv2D)           (None, 4, 4, 64)          36928     \n",
            "                                                                 \n",
            " max_pooling2d_2 (MaxPooling  (None, 2, 2, 64)         0         \n",
            " 2D)                                                             \n",
            "                                                                 \n",
            " flatten (Flatten)           (None, 256)               0         \n",
            "                                                                 \n",
            " dense (Dense)               (None, 128)               32896     \n",
            "                                                                 \n",
            " dense_1 (Dense)             (None, 100)               12900     \n",
            "                                                                 \n",
            "=================================================================\n",
            "Total params: 102,116\n",
            "Trainable params: 102,116\n",
            "Non-trainable params: 0\n",
            "_________________________________________________________________\n"
          ]
        }
      ]
    },
    {
      "cell_type": "code",
      "metadata": {
        "id": "lEb3M6DsQJXV"
      },
      "source": [
        "optimizer = tf.keras.optimizers.Adam()\n",
        "loss = tf.keras.losses.SparseCategoricalCrossentropy(from_logits=True)\n",
        "model.compile(optimizer=optimizer, loss=loss, metrics=['accuracy'])"
      ],
      "execution_count": 8,
      "outputs": []
    },
    {
      "cell_type": "code",
      "metadata": {
        "id": "NR1gIdS7QNVr",
        "colab": {
          "base_uri": "https://localhost:8080/"
        },
        "outputId": "04a46280-6481-418a-8891-8c55ffe29379"
      },
      "source": [
        "# train the model\n",
        "history = model.fit(train_data, train_labels,\n",
        "                       validation_data=(test_data, test_labels),\n",
        "                       batch_size=128, \n",
        "                       epochs=30)"
      ],
      "execution_count": 9,
      "outputs": [
        {
          "output_type": "stream",
          "name": "stdout",
          "text": [
            "Epoch 1/30\n",
            "391/391 [==============================] - 10s 6ms/step - loss: 4.0563 - accuracy: 0.0829 - val_loss: 3.6736 - val_accuracy: 0.1403\n",
            "Epoch 2/30\n",
            "391/391 [==============================] - 2s 5ms/step - loss: 3.4475 - accuracy: 0.1790 - val_loss: 3.3186 - val_accuracy: 0.2055\n",
            "Epoch 3/30\n",
            "391/391 [==============================] - 2s 5ms/step - loss: 3.1680 - accuracy: 0.2285 - val_loss: 3.0984 - val_accuracy: 0.2444\n",
            "Epoch 4/30\n",
            "391/391 [==============================] - 2s 5ms/step - loss: 2.9828 - accuracy: 0.2642 - val_loss: 2.9715 - val_accuracy: 0.2730\n",
            "Epoch 5/30\n",
            "391/391 [==============================] - 2s 5ms/step - loss: 2.8330 - accuracy: 0.2944 - val_loss: 2.8475 - val_accuracy: 0.2986\n",
            "Epoch 6/30\n",
            "391/391 [==============================] - 2s 5ms/step - loss: 2.7267 - accuracy: 0.3148 - val_loss: 2.8490 - val_accuracy: 0.2941\n",
            "Epoch 7/30\n",
            "391/391 [==============================] - 2s 5ms/step - loss: 2.6223 - accuracy: 0.3378 - val_loss: 2.7772 - val_accuracy: 0.3106\n",
            "Epoch 8/30\n",
            "391/391 [==============================] - 2s 5ms/step - loss: 2.5311 - accuracy: 0.3546 - val_loss: 2.6645 - val_accuracy: 0.3332\n",
            "Epoch 9/30\n",
            "391/391 [==============================] - 2s 5ms/step - loss: 2.4469 - accuracy: 0.3714 - val_loss: 2.6277 - val_accuracy: 0.3394\n",
            "Epoch 10/30\n",
            "391/391 [==============================] - 2s 5ms/step - loss: 2.3793 - accuracy: 0.3882 - val_loss: 2.5931 - val_accuracy: 0.3509\n",
            "Epoch 11/30\n",
            "391/391 [==============================] - 2s 5ms/step - loss: 2.3207 - accuracy: 0.4002 - val_loss: 2.5741 - val_accuracy: 0.3551\n",
            "Epoch 12/30\n",
            "391/391 [==============================] - 2s 5ms/step - loss: 2.2633 - accuracy: 0.4100 - val_loss: 2.5466 - val_accuracy: 0.3616\n",
            "Epoch 13/30\n",
            "391/391 [==============================] - 2s 5ms/step - loss: 2.2132 - accuracy: 0.4201 - val_loss: 2.5027 - val_accuracy: 0.3692\n",
            "Epoch 14/30\n",
            "391/391 [==============================] - 2s 5ms/step - loss: 2.1703 - accuracy: 0.4321 - val_loss: 2.5460 - val_accuracy: 0.3624\n",
            "Epoch 15/30\n",
            "391/391 [==============================] - 2s 5ms/step - loss: 2.1181 - accuracy: 0.4416 - val_loss: 2.4798 - val_accuracy: 0.3770\n",
            "Epoch 16/30\n",
            "391/391 [==============================] - 2s 5ms/step - loss: 2.0782 - accuracy: 0.4528 - val_loss: 2.4902 - val_accuracy: 0.3808\n",
            "Epoch 17/30\n",
            "391/391 [==============================] - 2s 5ms/step - loss: 2.0451 - accuracy: 0.4570 - val_loss: 2.4854 - val_accuracy: 0.3740\n",
            "Epoch 18/30\n",
            "391/391 [==============================] - 2s 5ms/step - loss: 2.0149 - accuracy: 0.4685 - val_loss: 2.4680 - val_accuracy: 0.3784\n",
            "Epoch 19/30\n",
            "391/391 [==============================] - 2s 5ms/step - loss: 1.9782 - accuracy: 0.4732 - val_loss: 2.4549 - val_accuracy: 0.3846\n",
            "Epoch 20/30\n",
            "391/391 [==============================] - 2s 5ms/step - loss: 1.9428 - accuracy: 0.4804 - val_loss: 2.5357 - val_accuracy: 0.3742\n",
            "Epoch 21/30\n",
            "391/391 [==============================] - 2s 5ms/step - loss: 1.9189 - accuracy: 0.4859 - val_loss: 2.4853 - val_accuracy: 0.3815\n",
            "Epoch 22/30\n",
            "391/391 [==============================] - 2s 5ms/step - loss: 1.8765 - accuracy: 0.4944 - val_loss: 2.4507 - val_accuracy: 0.3937\n",
            "Epoch 23/30\n",
            "391/391 [==============================] - 2s 5ms/step - loss: 1.8566 - accuracy: 0.4991 - val_loss: 2.4767 - val_accuracy: 0.3885\n",
            "Epoch 24/30\n",
            "391/391 [==============================] - 2s 5ms/step - loss: 1.8294 - accuracy: 0.5072 - val_loss: 2.4398 - val_accuracy: 0.4004\n",
            "Epoch 25/30\n",
            "391/391 [==============================] - 2s 5ms/step - loss: 1.8065 - accuracy: 0.5113 - val_loss: 2.4937 - val_accuracy: 0.3863\n",
            "Epoch 26/30\n",
            "391/391 [==============================] - 2s 5ms/step - loss: 1.7813 - accuracy: 0.5167 - val_loss: 2.5323 - val_accuracy: 0.3879\n",
            "Epoch 27/30\n",
            "391/391 [==============================] - 2s 5ms/step - loss: 1.7573 - accuracy: 0.5224 - val_loss: 2.5127 - val_accuracy: 0.3920\n",
            "Epoch 28/30\n",
            "391/391 [==============================] - 2s 5ms/step - loss: 1.7288 - accuracy: 0.5306 - val_loss: 2.5231 - val_accuracy: 0.3901\n",
            "Epoch 29/30\n",
            "391/391 [==============================] - 2s 5ms/step - loss: 1.7157 - accuracy: 0.5341 - val_loss: 2.4990 - val_accuracy: 0.3886\n",
            "Epoch 30/30\n",
            "391/391 [==============================] - 2s 5ms/step - loss: 1.6895 - accuracy: 0.5385 - val_loss: 2.5021 - val_accuracy: 0.4010\n"
          ]
        }
      ]
    },
    {
      "cell_type": "code",
      "metadata": {
        "id": "ANVWYXx3QOiJ",
        "colab": {
          "base_uri": "https://localhost:8080/",
          "height": 286
        },
        "outputId": "7d383d5f-3adc-4294-8c2e-243bb5e206dd"
      },
      "source": [
        "plt.plot(history.history['accuracy'], label='acc')\n",
        "plt.plot(history.history['val_accuracy'], label='val_acc')\n",
        "plt.legend();\n",
        "plt.ylim(0,1)"
      ],
      "execution_count": 10,
      "outputs": [
        {
          "output_type": "execute_result",
          "data": {
            "text/plain": [
              "(0.0, 1.0)"
            ]
          },
          "metadata": {},
          "execution_count": 10
        },
        {
          "output_type": "display_data",
          "data": {
            "image/png": "[encoded data removed]",
            "text/plain": [
              "<Figure size 432x288 with 1 Axes>"
            ]
          },
          "metadata": {
            "needs_background": "light"
          }
        }
      ]
    },
    {
      "cell_type": "code",
      "metadata": {
        "id": "l5ttcfYoQi4c",
        "colab": {
          "base_uri": "https://localhost:8080/"
        },
        "outputId": "cd4f639c-77b3-4393-8acd-be26d31f9861"
      },
      "source": [
        "print('Predictions on train')\n",
        "logits_train = model.predict(train_data)\n",
        "print('Predictions on test')\n",
        "logits_test = model.predict(test_data)\n",
        "\n",
        "print('Apply softmax to get probabilities from logits')\n",
        "prob_train = special.softmax(logits_train, axis=1)\n",
        "prob_test = special.softmax(logits_test, axis=1)\n",
        "\n",
        "print('Compute loss')\n",
        "cce = tf.keras.backend.categorical_crossentropy\n",
        "constant = tf.keras.backend.constant\n",
        "\n",
        "y_train_onehot = to_categorical(train_labels)\n",
        "y_test_onehot = to_categorical(test_labels)\n",
        "\n",
        "loss_train = cce(constant(y_train_onehot), constant(prob_train), from_logits=False).numpy()\n",
        "loss_test = cce(constant(y_test_onehot), constant(prob_test), from_logits=False).numpy()"
      ],
      "execution_count": 18,
      "outputs": [
        {
          "output_type": "stream",
          "name": "stdout",
          "text": [
            "Predictions on train\n",
            "Predictions on test\n",
            "Apply softmax to get probabilities from logits\n",
            "Compute loss\n"
          ]
        }
      ]
    },
    {
      "cell_type": "code",
      "metadata": {
        "id": "PuzoIxTcQkvI"
      },
      "source": [
        "# define what variables our attacker should have access to\n",
        "attack_input = AttackInputData(\n",
        "  logits_train = logits_train,\n",
        "  logits_test = logits_test,\n",
        "  loss_train = loss_train,\n",
        "  loss_test = loss_test,\n",
        "  labels_train = train_labels,\n",
        "  labels_test = test_labels\n",
        ")"
      ],
      "execution_count": 12,
      "outputs": []
    },
    {
      "cell_type": "code",
      "metadata": {
        "id": "mdOSFCD2Q9O6"
      },
      "source": [
        "# how should the data be sliced\n",
        "slicing_spec = SlicingSpec(\n",
        "    entire_dataset = True,\n",
        "    by_class = True,\n",
        "    by_percentiles = False,\n",
        "    by_classification_correctness = True)"
      ],
      "execution_count": 13,
      "outputs": []
    },
    {
      "cell_type": "code",
      "metadata": {
        "id": "meq0EvSKQ-dr"
      },
      "source": [
        "# define the type of attacker model that we want to use\n",
        "attack_types = [\n",
        "    AttackType.THRESHOLD_ATTACK\n",
        "]"
      ],
      "execution_count": 14,
      "outputs": []
    },
    {
      "cell_type": "code",
      "metadata": {
        "id": "SpQWClWbRAHf"
      },
      "source": [
        "# run the attack\n",
        "attacks_result = mia.run_attacks(attack_input=attack_input,\n",
        "                                 slicing_spec=slicing_spec,\n",
        "                                 attack_types=attack_types)"
      ],
      "execution_count": 15,
      "outputs": []
    },
    {
      "cell_type": "code",
      "metadata": {
        "id": "u7UlPkSwRB5x",
        "colab": {
          "base_uri": "https://localhost:8080/"
        },
        "outputId": "fbeed449-a230-47e9-b014-845c99253ed4"
      },
      "source": [
        "print(attacks_result.summary(by_slices=True))"
      ],
      "execution_count": 16,
      "outputs": [
        {
          "output_type": "stream",
          "name": "stdout",
          "text": [
            "Best-performing attacks over all slices\n",
            "  THRESHOLD_ATTACK (with 500 training and 100 test examples) achieved an AUC of 0.75 on slice CLASS=98\n",
            "  THRESHOLD_ATTACK (with 500 training and 100 test examples) achieved an advantage of 0.40 on slice CLASS=98\n",
            "\n",
            "Best-performing attacks over slice: \"Entire dataset\"\n",
            "  THRESHOLD_ATTACK (with 50000 training and 10000 test examples) achieved an AUC of 0.61\n",
            "  THRESHOLD_ATTACK (with 50000 training and 10000 test examples) achieved an advantage of 0.18\n",
            "\n",
            "Best-performing attacks over slice: \"CLASS=0\"\n",
            "  THRESHOLD_ATTACK (with 500 training and 100 test examples) achieved an AUC of 0.52\n",
            "  THRESHOLD_ATTACK (with 500 training and 100 test examples) achieved an advantage of 0.12\n",
            "\n",
            "Best-performing attacks over slice: \"CLASS=1\"\n",
            "  THRESHOLD_ATTACK (with 500 training and 100 test examples) achieved an AUC of 0.61\n",
            "  THRESHOLD_ATTACK (with 500 training and 100 test examples) achieved an advantage of 0.19\n",
            "\n",
            "Best-performing attacks over slice: \"CLASS=2\"\n",
            "  THRESHOLD_ATTACK (with 500 training and 100 test examples) achieved an AUC of 0.62\n",
            "  THRESHOLD_ATTACK (with 500 training and 100 test examples) achieved an advantage of 0.24\n",
            "\n",
            "Best-performing attacks over slice: \"CLASS=3\"\n",
            "  THRESHOLD_ATTACK (with 500 training and 100 test examples) achieved an AUC of 0.69\n",
            "  THRESHOLD_ATTACK (with 500 training and 100 test examples) achieved an advantage of 0.33\n",
            "\n",
            "Best-performing attacks over slice: \"CLASS=4\"\n",
            "  THRESHOLD_ATTACK (with 500 training and 100 test examples) achieved an AUC of 0.66\n",
            "  THRESHOLD_ATTACK (with 500 training and 100 test examples) achieved an advantage of 0.27\n",
            "\n",
            "Best-performing attacks over slice: \"CLASS=5\"\n",
            "  THRESHOLD_ATTACK (with 500 training and 100 test examples) achieved an AUC of 0.65\n",
            "  THRESHOLD_ATTACK (with 500 training and 100 test examples) achieved an advantage of 0.28\n",
            "\n",
            "Best-performing attacks over slice: \"CLASS=6\"\n",
            "  THRESHOLD_ATTACK (with 500 training and 100 test examples) achieved an AUC of 0.62\n",
            "  THRESHOLD_ATTACK (with 500 training and 100 test examples) achieved an advantage of 0.23\n",
            "\n",
            "Best-performing attacks over slice: \"CLASS=7\"\n",
            "  THRESHOLD_ATTACK (with 500 training and 100 test examples) achieved an AUC of 0.63\n",
            "  THRESHOLD_ATTACK (with 500 training and 100 test examples) achieved an advantage of 0.25\n",
            "\n",
            "Best-performing attacks over slice: \"CLASS=8\"\n",
            "  THRESHOLD_ATTACK (with 500 training and 100 test examples) achieved an AUC of 0.64\n",
            "  THRESHOLD_ATTACK (with 500 training and 100 test examples) achieved an advantage of 0.29\n",
            "\n",
            "Best-performing attacks over slice: \"CLASS=9\"\n",
            "  THRESHOLD_ATTACK (with 500 training and 100 test examples) achieved an AUC of 0.62\n",
            "  THRESHOLD_ATTACK (with 500 training and 100 test examples) achieved an advantage of 0.23\n",
            "\n",
            "Best-performing attacks over slice: \"CLASS=10\"\n",
            "  THRESHOLD_ATTACK (with 500 training and 100 test examples) achieved an AUC of 0.68\n",
            "  THRESHOLD_ATTACK (with 500 training and 100 test examples) achieved an advantage of 0.32\n",
            "\n",
            "Best-performing attacks over slice: \"CLASS=11\"\n",
            "  THRESHOLD_ATTACK (with 500 training and 100 test examples) achieved an AUC of 0.65\n",
            "  THRESHOLD_ATTACK (with 500 training and 100 test examples) achieved an advantage of 0.26\n",
            "\n",
            "Best-performing attacks over slice: \"CLASS=12\"\n",
            "  THRESHOLD_ATTACK (with 500 training and 100 test examples) achieved an AUC of 0.62\n",
            "  THRESHOLD_ATTACK (with 500 training and 100 test examples) achieved an advantage of 0.23\n",
            "\n",
            "Best-performing attacks over slice: \"CLASS=13\"\n",
            "  THRESHOLD_ATTACK (with 500 training and 100 test examples) achieved an AUC of 0.67\n",
            "  THRESHOLD_ATTACK (with 500 training and 100 test examples) achieved an advantage of 0.30\n",
            "\n",
            "Best-performing attacks over slice: \"CLASS=14\"\n",
            "  THRESHOLD_ATTACK (with 500 training and 100 test examples) achieved an AUC of 0.64\n",
            "  THRESHOLD_ATTACK (with 500 training and 100 test examples) achieved an advantage of 0.22\n",
            "\n",
            "Best-performing attacks over slice: \"CLASS=15\"\n",
            "  THRESHOLD_ATTACK (with 500 training and 100 test examples) achieved an AUC of 0.65\n",
            "  THRESHOLD_ATTACK (with 500 training and 100 test examples) achieved an advantage of 0.28\n",
            "\n",
            "Best-performing attacks over slice: \"CLASS=16\"\n",
            "  THRESHOLD_ATTACK (with 500 training and 100 test examples) achieved an AUC of 0.55\n",
            "  THRESHOLD_ATTACK (with 500 training and 100 test examples) achieved an advantage of 0.14\n",
            "\n",
            "Best-performing attacks over slice: \"CLASS=17\"\n",
            "  THRESHOLD_ATTACK (with 500 training and 100 test examples) achieved an AUC of 0.59\n",
            "  THRESHOLD_ATTACK (with 500 training and 100 test examples) achieved an advantage of 0.16\n",
            "\n",
            "Best-performing attacks over slice: \"CLASS=18\"\n",
            "  THRESHOLD_ATTACK (with 500 training and 100 test examples) achieved an AUC of 0.62\n",
            "  THRESHOLD_ATTACK (with 500 training and 100 test examples) achieved an advantage of 0.22\n",
            "\n",
            "Best-performing attacks over slice: \"CLASS=19\"\n",
            "  THRESHOLD_ATTACK (with 500 training and 100 test examples) achieved an AUC of 0.65\n",
            "  THRESHOLD_ATTACK (with 500 training and 100 test examples) achieved an advantage of 0.24\n",
            "\n",
            "Best-performing attacks over slice: \"CLASS=20\"\n",
            "  THRESHOLD_ATTACK (with 500 training and 100 test examples) achieved an AUC of 0.61\n",
            "  THRESHOLD_ATTACK (with 500 training and 100 test examples) achieved an advantage of 0.24\n",
            "\n",
            "Best-performing attacks over slice: \"CLASS=21\"\n",
            "  THRESHOLD_ATTACK (with 500 training and 100 test examples) achieved an AUC of 0.61\n",
            "  THRESHOLD_ATTACK (with 500 training and 100 test examples) achieved an advantage of 0.23\n",
            "\n",
            "Best-performing attacks over slice: \"CLASS=22\"\n",
            "  THRESHOLD_ATTACK (with 500 training and 100 test examples) achieved an AUC of 0.65\n",
            "  THRESHOLD_ATTACK (with 500 training and 100 test examples) achieved an advantage of 0.33\n",
            "\n",
            "Best-performing attacks over slice: \"CLASS=23\"\n",
            "  THRESHOLD_ATTACK (with 500 training and 100 test examples) achieved an AUC of 0.54\n",
            "  THRESHOLD_ATTACK (with 500 training and 100 test examples) achieved an advantage of 0.09\n",
            "\n",
            "Best-performing attacks over slice: \"CLASS=24\"\n",
            "  THRESHOLD_ATTACK (with 500 training and 100 test examples) achieved an AUC of 0.60\n",
            "  THRESHOLD_ATTACK (with 500 training and 100 test examples) achieved an advantage of 0.19\n",
            "\n",
            "Best-performing attacks over slice: \"CLASS=25\"\n",
            "  THRESHOLD_ATTACK (with 500 training and 100 test examples) achieved an AUC of 0.62\n",
            "  THRESHOLD_ATTACK (with 500 training and 100 test examples) achieved an advantage of 0.21\n",
            "\n",
            "Best-performing attacks over slice: \"CLASS=26\"\n",
            "  THRESHOLD_ATTACK (with 500 training and 100 test examples) achieved an AUC of 0.59\n",
            "  THRESHOLD_ATTACK (with 500 training and 100 test examples) achieved an advantage of 0.18\n",
            "\n",
            "Best-performing attacks over slice: \"CLASS=27\"\n",
            "  THRESHOLD_ATTACK (with 500 training and 100 test examples) achieved an AUC of 0.60\n",
            "  THRESHOLD_ATTACK (with 500 training and 100 test examples) achieved an advantage of 0.23\n",
            "\n",
            "Best-performing attacks over slice: \"CLASS=28\"\n",
            "  THRESHOLD_ATTACK (with 500 training and 100 test examples) achieved an AUC of 0.63\n",
            "  THRESHOLD_ATTACK (with 500 training and 100 test examples) achieved an advantage of 0.26\n",
            "\n",
            "Best-performing attacks over slice: \"CLASS=29\"\n",
            "  THRESHOLD_ATTACK (with 500 training and 100 test examples) achieved an AUC of 0.60\n",
            "  THRESHOLD_ATTACK (with 500 training and 100 test examples) achieved an advantage of 0.18\n",
            "\n",
            "Best-performing attacks over slice: \"CLASS=30\"\n",
            "  THRESHOLD_ATTACK (with 500 training and 100 test examples) achieved an AUC of 0.58\n",
            "  THRESHOLD_ATTACK (with 500 training and 100 test examples) achieved an advantage of 0.17\n",
            "\n",
            "Best-performing attacks over slice: \"CLASS=31\"\n",
            "  THRESHOLD_ATTACK (with 500 training and 100 test examples) achieved an AUC of 0.67\n",
            "  THRESHOLD_ATTACK (with 500 training and 100 test examples) achieved an advantage of 0.31\n",
            "\n",
            "Best-performing attacks over slice: \"CLASS=32\"\n",
            "  THRESHOLD_ATTACK (with 500 training and 100 test examples) achieved an AUC of 0.58\n",
            "  THRESHOLD_ATTACK (with 500 training and 100 test examples) achieved an advantage of 0.24\n",
            "\n",
            "Best-performing attacks over slice: \"CLASS=33\"\n",
            "  THRESHOLD_ATTACK (with 500 training and 100 test examples) achieved an AUC of 0.63\n",
            "  THRESHOLD_ATTACK (with 500 training and 100 test examples) achieved an advantage of 0.21\n",
            "\n",
            "Best-performing attacks over slice: \"CLASS=34\"\n",
            "  THRESHOLD_ATTACK (with 500 training and 100 test examples) achieved an AUC of 0.61\n",
            "  THRESHOLD_ATTACK (with 500 training and 100 test examples) achieved an advantage of 0.22\n",
            "\n",
            "Best-performing attacks over slice: \"CLASS=35\"\n",
            "  THRESHOLD_ATTACK (with 500 training and 100 test examples) achieved an AUC of 0.62\n",
            "  THRESHOLD_ATTACK (with 500 training and 100 test examples) achieved an advantage of 0.19\n",
            "\n",
            "Best-performing attacks over slice: \"CLASS=36\"\n",
            "  THRESHOLD_ATTACK (with 500 training and 100 test examples) achieved an AUC of 0.69\n",
            "  THRESHOLD_ATTACK (with 500 training and 100 test examples) achieved an advantage of 0.33\n",
            "\n",
            "Best-performing attacks over slice: \"CLASS=37\"\n",
            "  THRESHOLD_ATTACK (with 500 training and 100 test examples) achieved an AUC of 0.66\n",
            "  THRESHOLD_ATTACK (with 500 training and 100 test examples) achieved an advantage of 0.26\n",
            "\n",
            "Best-performing attacks over slice: \"CLASS=38\"\n",
            "  THRESHOLD_ATTACK (with 500 training and 100 test examples) achieved an AUC of 0.61\n",
            "  THRESHOLD_ATTACK (with 500 training and 100 test examples) achieved an advantage of 0.18\n",
            "\n",
            "Best-performing attacks over slice: \"CLASS=39\"\n",
            "  THRESHOLD_ATTACK (with 500 training and 100 test examples) achieved an AUC of 0.60\n",
            "  THRESHOLD_ATTACK (with 500 training and 100 test examples) achieved an advantage of 0.26\n",
            "\n",
            "Best-performing attacks over slice: \"CLASS=40\"\n",
            "  THRESHOLD_ATTACK (with 500 training and 100 test examples) achieved an AUC of 0.62\n",
            "  THRESHOLD_ATTACK (with 500 training and 100 test examples) achieved an advantage of 0.28\n",
            "\n",
            "Best-performing attacks over slice: \"CLASS=41\"\n",
            "  THRESHOLD_ATTACK (with 500 training and 100 test examples) achieved an AUC of 0.54\n",
            "  THRESHOLD_ATTACK (with 500 training and 100 test examples) achieved an advantage of 0.22\n",
            "\n",
            "Best-performing attacks over slice: \"CLASS=42\"\n",
            "  THRESHOLD_ATTACK (with 500 training and 100 test examples) achieved an AUC of 0.61\n",
            "  THRESHOLD_ATTACK (with 500 training and 100 test examples) achieved an advantage of 0.25\n",
            "\n",
            "Best-performing attacks over slice: \"CLASS=43\"\n",
            "  THRESHOLD_ATTACK (with 500 training and 100 test examples) achieved an AUC of 0.60\n",
            "  THRESHOLD_ATTACK (with 500 training and 100 test examples) achieved an advantage of 0.20\n",
            "\n",
            "Best-performing attacks over slice: \"CLASS=44\"\n",
            "  THRESHOLD_ATTACK (with 500 training and 100 test examples) achieved an AUC of 0.60\n",
            "  THRESHOLD_ATTACK (with 500 training and 100 test examples) achieved an advantage of 0.19\n",
            "\n",
            "Best-performing attacks over slice: \"CLASS=45\"\n",
            "  THRESHOLD_ATTACK (with 500 training and 100 test examples) achieved an AUC of 0.65\n",
            "  THRESHOLD_ATTACK (with 500 training and 100 test examples) achieved an advantage of 0.26\n",
            "\n",
            "Best-performing attacks over slice: \"CLASS=46\"\n",
            "  THRESHOLD_ATTACK (with 500 training and 100 test examples) achieved an AUC of 0.64\n",
            "  THRESHOLD_ATTACK (with 500 training and 100 test examples) achieved an advantage of 0.25\n",
            "\n",
            "Best-performing attacks over slice: \"CLASS=47\"\n",
            "  THRESHOLD_ATTACK (with 500 training and 100 test examples) achieved an AUC of 0.60\n",
            "  THRESHOLD_ATTACK (with 500 training and 100 test examples) achieved an advantage of 0.24\n",
            "\n",
            "Best-performing attacks over slice: \"CLASS=48\"\n",
            "  THRESHOLD_ATTACK (with 500 training and 100 test examples) achieved an AUC of 0.55\n",
            "  THRESHOLD_ATTACK (with 500 training and 100 test examples) achieved an advantage of 0.16\n",
            "\n",
            "Best-performing attacks over slice: \"CLASS=49\"\n",
            "  THRESHOLD_ATTACK (with 500 training and 100 test examples) achieved an AUC of 0.60\n",
            "  THRESHOLD_ATTACK (with 500 training and 100 test examples) achieved an advantage of 0.17\n",
            "\n",
            "Best-performing attacks over slice: \"CLASS=50\"\n",
            "  THRESHOLD_ATTACK (with 500 training and 100 test examples) achieved an AUC of 0.60\n",
            "  THRESHOLD_ATTACK (with 500 training and 100 test examples) achieved an advantage of 0.20\n",
            "\n",
            "Best-performing attacks over slice: \"CLASS=51\"\n",
            "  THRESHOLD_ATTACK (with 500 training and 100 test examples) achieved an AUC of 0.66\n",
            "  THRESHOLD_ATTACK (with 500 training and 100 test examples) achieved an advantage of 0.28\n",
            "\n",
            "Best-performing attacks over slice: \"CLASS=52\"\n",
            "  THRESHOLD_ATTACK (with 500 training and 100 test examples) achieved an AUC of 0.56\n",
            "  THRESHOLD_ATTACK (with 500 training and 100 test examples) achieved an advantage of 0.14\n",
            "\n",
            "Best-performing attacks over slice: \"CLASS=53\"\n",
            "  THRESHOLD_ATTACK (with 500 training and 100 test examples) achieved an AUC of 0.57\n",
            "  THRESHOLD_ATTACK (with 500 training and 100 test examples) achieved an advantage of 0.14\n",
            "\n",
            "Best-performing attacks over slice: \"CLASS=54\"\n",
            "  THRESHOLD_ATTACK (with 500 training and 100 test examples) achieved an AUC of 0.62\n",
            "  THRESHOLD_ATTACK (with 500 training and 100 test examples) achieved an advantage of 0.22\n",
            "\n",
            "Best-performing attacks over slice: \"CLASS=55\"\n",
            "  THRESHOLD_ATTACK (with 500 training and 100 test examples) achieved an AUC of 0.66\n",
            "  THRESHOLD_ATTACK (with 500 training and 100 test examples) achieved an advantage of 0.25\n",
            "\n",
            "Best-performing attacks over slice: \"CLASS=56\"\n",
            "  THRESHOLD_ATTACK (with 500 training and 100 test examples) achieved an AUC of 0.65\n",
            "  THRESHOLD_ATTACK (with 500 training and 100 test examples) achieved an advantage of 0.27\n",
            "\n",
            "Best-performing attacks over slice: \"CLASS=57\"\n",
            "  THRESHOLD_ATTACK (with 500 training and 100 test examples) achieved an AUC of 0.60\n",
            "  THRESHOLD_ATTACK (with 500 training and 100 test examples) achieved an advantage of 0.19\n",
            "\n",
            "Best-performing attacks over slice: \"CLASS=58\"\n",
            "  THRESHOLD_ATTACK (with 500 training and 100 test examples) achieved an AUC of 0.69\n",
            "  THRESHOLD_ATTACK (with 500 training and 100 test examples) achieved an advantage of 0.30\n",
            "\n",
            "Best-performing attacks over slice: \"CLASS=59\"\n",
            "  THRESHOLD_ATTACK (with 500 training and 100 test examples) achieved an AUC of 0.62\n",
            "  THRESHOLD_ATTACK (with 500 training and 100 test examples) achieved an advantage of 0.23\n",
            "\n",
            "Best-performing attacks over slice: \"CLASS=60\"\n",
            "  THRESHOLD_ATTACK (with 500 training and 100 test examples) achieved an AUC of 0.55\n",
            "  THRESHOLD_ATTACK (with 500 training and 100 test examples) achieved an advantage of 0.18\n",
            "\n",
            "Best-performing attacks over slice: \"CLASS=61\"\n",
            "  THRESHOLD_ATTACK (with 500 training and 100 test examples) achieved an AUC of 0.65\n",
            "  THRESHOLD_ATTACK (with 500 training and 100 test examples) achieved an advantage of 0.27\n",
            "\n",
            "Best-performing attacks over slice: \"CLASS=62\"\n",
            "  THRESHOLD_ATTACK (with 500 training and 100 test examples) achieved an AUC of 0.58\n",
            "  THRESHOLD_ATTACK (with 500 training and 100 test examples) achieved an advantage of 0.17\n",
            "\n",
            "Best-performing attacks over slice: \"CLASS=63\"\n",
            "  THRESHOLD_ATTACK (with 500 training and 100 test examples) achieved an AUC of 0.62\n",
            "  THRESHOLD_ATTACK (with 500 training and 100 test examples) achieved an advantage of 0.22\n",
            "\n",
            "Best-performing attacks over slice: \"CLASS=64\"\n",
            "  THRESHOLD_ATTACK (with 500 training and 100 test examples) achieved an AUC of 0.67\n",
            "  THRESHOLD_ATTACK (with 500 training and 100 test examples) achieved an advantage of 0.29\n",
            "\n",
            "Best-performing attacks over slice: \"CLASS=65\"\n",
            "  THRESHOLD_ATTACK (with 500 training and 100 test examples) achieved an AUC of 0.64\n",
            "  THRESHOLD_ATTACK (with 500 training and 100 test examples) achieved an advantage of 0.25\n",
            "\n",
            "Best-performing attacks over slice: \"CLASS=66\"\n",
            "  THRESHOLD_ATTACK (with 500 training and 100 test examples) achieved an AUC of 0.62\n",
            "  THRESHOLD_ATTACK (with 500 training and 100 test examples) achieved an advantage of 0.24\n",
            "\n",
            "Best-performing attacks over slice: \"CLASS=67\"\n",
            "  THRESHOLD_ATTACK (with 500 training and 100 test examples) achieved an AUC of 0.61\n",
            "  THRESHOLD_ATTACK (with 500 training and 100 test examples) achieved an advantage of 0.17\n",
            "\n",
            "Best-performing attacks over slice: \"CLASS=68\"\n",
            "  THRESHOLD_ATTACK (with 500 training and 100 test examples) achieved an AUC of 0.58\n",
            "  THRESHOLD_ATTACK (with 500 training and 100 test examples) achieved an advantage of 0.18\n",
            "\n",
            "Best-performing attacks over slice: \"CLASS=69\"\n",
            "  THRESHOLD_ATTACK (with 500 training and 100 test examples) achieved an AUC of 0.58\n",
            "  THRESHOLD_ATTACK (with 500 training and 100 test examples) achieved an advantage of 0.19\n",
            "\n",
            "Best-performing attacks over slice: \"CLASS=70\"\n",
            "  THRESHOLD_ATTACK (with 500 training and 100 test examples) achieved an AUC of 0.61\n",
            "  THRESHOLD_ATTACK (with 500 training and 100 test examples) achieved an advantage of 0.17\n",
            "\n",
            "Best-performing attacks over slice: \"CLASS=71\"\n",
            "  THRESHOLD_ATTACK (with 500 training and 100 test examples) achieved an AUC of 0.54\n",
            "  THRESHOLD_ATTACK (with 500 training and 100 test examples) achieved an advantage of 0.12\n",
            "\n",
            "Best-performing attacks over slice: \"CLASS=72\"\n",
            "  THRESHOLD_ATTACK (with 500 training and 100 test examples) achieved an AUC of 0.62\n",
            "  THRESHOLD_ATTACK (with 500 training and 100 test examples) achieved an advantage of 0.20\n",
            "\n",
            "Best-performing attacks over slice: \"CLASS=73\"\n",
            "  THRESHOLD_ATTACK (with 500 training and 100 test examples) achieved an AUC of 0.59\n",
            "  THRESHOLD_ATTACK (with 500 training and 100 test examples) achieved an advantage of 0.16\n",
            "\n",
            "Best-performing attacks over slice: \"CLASS=74\"\n",
            "  THRESHOLD_ATTACK (with 500 training and 100 test examples) achieved an AUC of 0.65\n",
            "  THRESHOLD_ATTACK (with 500 training and 100 test examples) achieved an advantage of 0.25\n",
            "\n",
            "Best-performing attacks over slice: \"CLASS=75\"\n",
            "  THRESHOLD_ATTACK (with 500 training and 100 test examples) achieved an AUC of 0.60\n",
            "  THRESHOLD_ATTACK (with 500 training and 100 test examples) achieved an advantage of 0.22\n",
            "\n",
            "Best-performing attacks over slice: \"CLASS=76\"\n",
            "  THRESHOLD_ATTACK (with 500 training and 100 test examples) achieved an AUC of 0.58\n",
            "  THRESHOLD_ATTACK (with 500 training and 100 test examples) achieved an advantage of 0.21\n",
            "\n",
            "Best-performing attacks over slice: \"CLASS=77\"\n",
            "  THRESHOLD_ATTACK (with 500 training and 100 test examples) achieved an AUC of 0.65\n",
            "  THRESHOLD_ATTACK (with 500 training and 100 test examples) achieved an advantage of 0.26\n",
            "\n",
            "Best-performing attacks over slice: \"CLASS=78\"\n",
            "  THRESHOLD_ATTACK (with 500 training and 100 test examples) achieved an AUC of 0.67\n",
            "  THRESHOLD_ATTACK (with 500 training and 100 test examples) achieved an advantage of 0.27\n",
            "\n",
            "Best-performing attacks over slice: \"CLASS=79\"\n",
            "  THRESHOLD_ATTACK (with 500 training and 100 test examples) achieved an AUC of 0.61\n",
            "  THRESHOLD_ATTACK (with 500 training and 100 test examples) achieved an advantage of 0.19\n",
            "\n",
            "Best-performing attacks over slice: \"CLASS=80\"\n",
            "  THRESHOLD_ATTACK (with 500 training and 100 test examples) achieved an AUC of 0.63\n",
            "  THRESHOLD_ATTACK (with 500 training and 100 test examples) achieved an advantage of 0.20\n",
            "\n",
            "Best-performing attacks over slice: \"CLASS=81\"\n",
            "  THRESHOLD_ATTACK (with 500 training and 100 test examples) achieved an AUC of 0.61\n",
            "  THRESHOLD_ATTACK (with 500 training and 100 test examples) achieved an advantage of 0.23\n",
            "\n",
            "Best-performing attacks over slice: \"CLASS=82\"\n",
            "  THRESHOLD_ATTACK (with 500 training and 100 test examples) achieved an AUC of 0.57\n",
            "  THRESHOLD_ATTACK (with 500 training and 100 test examples) achieved an advantage of 0.17\n",
            "\n",
            "Best-performing attacks over slice: \"CLASS=83\"\n",
            "  THRESHOLD_ATTACK (with 500 training and 100 test examples) achieved an AUC of 0.67\n",
            "  THRESHOLD_ATTACK (with 500 training and 100 test examples) achieved an advantage of 0.30\n",
            "\n",
            "Best-performing attacks over slice: \"CLASS=84\"\n",
            "  THRESHOLD_ATTACK (with 500 training and 100 test examples) achieved an AUC of 0.65\n",
            "  THRESHOLD_ATTACK (with 500 training and 100 test examples) achieved an advantage of 0.25\n",
            "\n",
            "Best-performing attacks over slice: \"CLASS=85\"\n",
            "  THRESHOLD_ATTACK (with 500 training and 100 test examples) achieved an AUC of 0.61\n",
            "  THRESHOLD_ATTACK (with 500 training and 100 test examples) achieved an advantage of 0.25\n",
            "\n",
            "Best-performing attacks over slice: \"CLASS=86\"\n",
            "  THRESHOLD_ATTACK (with 500 training and 100 test examples) achieved an AUC of 0.59\n",
            "  THRESHOLD_ATTACK (with 500 training and 100 test examples) achieved an advantage of 0.25\n",
            "\n",
            "Best-performing attacks over slice: \"CLASS=87\"\n",
            "  THRESHOLD_ATTACK (with 500 training and 100 test examples) achieved an AUC of 0.58\n",
            "  THRESHOLD_ATTACK (with 500 training and 100 test examples) achieved an advantage of 0.19\n",
            "\n",
            "Best-performing attacks over slice: \"CLASS=88\"\n",
            "  THRESHOLD_ATTACK (with 500 training and 100 test examples) achieved an AUC of 0.68\n",
            "  THRESHOLD_ATTACK (with 500 training and 100 test examples) achieved an advantage of 0.33\n",
            "\n",
            "Best-performing attacks over slice: \"CLASS=89\"\n",
            "  THRESHOLD_ATTACK (with 500 training and 100 test examples) achieved an AUC of 0.62\n",
            "  THRESHOLD_ATTACK (with 500 training and 100 test examples) achieved an advantage of 0.19\n",
            "\n",
            "Best-performing attacks over slice: \"CLASS=90\"\n",
            "  THRESHOLD_ATTACK (with 500 training and 100 test examples) achieved an AUC of 0.60\n",
            "  THRESHOLD_ATTACK (with 500 training and 100 test examples) achieved an advantage of 0.23\n",
            "\n",
            "Best-performing attacks over slice: \"CLASS=91\"\n",
            "  THRESHOLD_ATTACK (with 500 training and 100 test examples) achieved an AUC of 0.60\n",
            "  THRESHOLD_ATTACK (with 500 training and 100 test examples) achieved an advantage of 0.20\n",
            "\n",
            "Best-performing attacks over slice: \"CLASS=92\"\n",
            "  THRESHOLD_ATTACK (with 500 training and 100 test examples) achieved an AUC of 0.68\n",
            "  THRESHOLD_ATTACK (with 500 training and 100 test examples) achieved an advantage of 0.29\n",
            "\n",
            "Best-performing attacks over slice: \"CLASS=93\"\n",
            "  THRESHOLD_ATTACK (with 500 training and 100 test examples) achieved an AUC of 0.65\n",
            "  THRESHOLD_ATTACK (with 500 training and 100 test examples) achieved an advantage of 0.25\n",
            "\n",
            "Best-performing attacks over slice: \"CLASS=94\"\n",
            "  THRESHOLD_ATTACK (with 500 training and 100 test examples) achieved an AUC of 0.53\n",
            "  THRESHOLD_ATTACK (with 500 training and 100 test examples) achieved an advantage of 0.11\n",
            "\n",
            "Best-performing attacks over slice: \"CLASS=95\"\n",
            "  THRESHOLD_ATTACK (with 500 training and 100 test examples) achieved an AUC of 0.62\n",
            "  THRESHOLD_ATTACK (with 500 training and 100 test examples) achieved an advantage of 0.23\n",
            "\n",
            "Best-performing attacks over slice: \"CLASS=96\"\n",
            "  THRESHOLD_ATTACK (with 500 training and 100 test examples) achieved an AUC of 0.63\n",
            "  THRESHOLD_ATTACK (with 500 training and 100 test examples) achieved an advantage of 0.25\n",
            "\n",
            "Best-performing attacks over slice: \"CLASS=97\"\n",
            "  THRESHOLD_ATTACK (with 500 training and 100 test examples) achieved an AUC of 0.64\n",
            "  THRESHOLD_ATTACK (with 500 training and 100 test examples) achieved an advantage of 0.25\n",
            "\n",
            "Best-performing attacks over slice: \"CLASS=98\"\n",
            "  THRESHOLD_ATTACK (with 500 training and 100 test examples) achieved an AUC of 0.75\n",
            "  THRESHOLD_ATTACK (with 500 training and 100 test examples) achieved an advantage of 0.40\n",
            "\n",
            "Best-performing attacks over slice: \"CLASS=99\"\n",
            "  THRESHOLD_ATTACK (with 500 training and 100 test examples) achieved an AUC of 0.59\n",
            "  THRESHOLD_ATTACK (with 500 training and 100 test examples) achieved an advantage of 0.19\n",
            "\n",
            "Best-performing attacks over slice: \"CORRECTLY_CLASSIFIED=True\"\n",
            "  THRESHOLD_ATTACK (with 28051 training and 4010 test examples) achieved an AUC of 0.49\n",
            "  THRESHOLD_ATTACK (with 28051 training and 4010 test examples) achieved an advantage of 0.03\n",
            "\n",
            "Best-performing attacks over slice: \"CORRECTLY_CLASSIFIED=False\"\n",
            "  THRESHOLD_ATTACK (with 21949 training and 5990 test examples) achieved an AUC of 0.62\n",
            "  THRESHOLD_ATTACK (with 21949 training and 5990 test examples) achieved an advantage of 0.19\n"
          ]
        }
      ]
    },
    {
      "cell_type": "code",
      "metadata": {
        "id": "YNhjvK2iRC8C",
        "colab": {
          "base_uri": "https://localhost:8080/",
          "height": 296
        },
        "outputId": "779b9d6d-7d73-4111-a717-ec6aaa3e42b2"
      },
      "source": [
        "import tensorflow_privacy.privacy.membership_inference_attack.plotting as plotting\n",
        "print(plotting.plot_roc_curve(attacks_result.get_result_with_max_auc().roc_curve))"
      ],
      "execution_count": 17,
      "outputs": [
        {
          "output_type": "stream",
          "name": "stdout",
          "text": [
            "Figure(432x288)\n"
          ]
        },
        {
          "output_type": "display_data",
          "data": {
            "image/png": "[encoded data removed]",
            "text/plain": [
              "<Figure size 432x288 with 1 Axes>"
            ]
          },
          "metadata": {
            "needs_background": "light"
          }
        }
      ]
    }
  ]
}