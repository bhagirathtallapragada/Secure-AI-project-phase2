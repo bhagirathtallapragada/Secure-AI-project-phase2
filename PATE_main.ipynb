{
  "nbformat": 4,
  "nbformat_minor": 0,
  "metadata": {
    "colab": {
      "name": "PATE_main.ipynb",
      "provenance": [],
      "collapsed_sections": [],
      "authorship_tag": "ABX9TyPX52u+l1xYUok2RaKv7yat",
      "include_colab_link": true
    },
    "kernelspec": {
      "name": "python3",
      "display_name": "Python 3"
    },
    "language_info": {
      "name": "python"
    }
  },
  "cells": [
    {
      "cell_type": "markdown",
      "metadata": {
        "id": "view-in-github",
        "colab_type": "text"
      },
      "source": [
        "<a href=\"https://colab.research.google.com/github/bhagirathtallapragada/Secure-AI-project-phase2/blob/main/PATE_main.ipynb\" target=\"_parent\"><img src=\"https://colab.research.google.com/assets/colab-badge.svg\" alt=\"Open In Colab\"/></a>"
      ]
    },
    {
      "cell_type": "markdown",
      "metadata": {
        "id": "0ez05EG6nqWV"
      },
      "source": [
        "In this notebook I implement the PATE framework for ensuring model privacy"
      ]
    },
    {
      "cell_type": "code",
      "metadata": {
        "colab": {
          "base_uri": "https://localhost:8080/"
        },
        "id": "S_ex5WHmPGRy",
        "outputId": "ca6a0fc2-3494-4bb2-9f9e-aeff50684c5b"
      },
      "source": [
        "from google.colab import drive\n",
        "drive.mount('/content/drive') #, force_remount = True)"
      ],
      "execution_count": 1,
      "outputs": [
        {
          "output_type": "stream",
          "name": "stdout",
          "text": [
            "Drive already mounted at /content/drive; to attempt to forcibly remount, call drive.mount(\"/content/drive\", force_remount=True).\n"
          ]
        }
      ]
    },
    {
      "cell_type": "code",
      "metadata": {
        "id": "5cmMVScVP8an"
      },
      "source": [
        "import keras\n",
        "from keras.datasets import cifar100\n",
        "from keras.models import Sequential\n",
        "from keras.layers import Dense, Dropout, Activation, Flatten\n",
        "from keras.layers import Conv2D, MaxPooling2D, ZeroPadding2D\n",
        "from keras.regularizers import l2\n",
        "from keras.callbacks import Callback, LearningRateScheduler, TensorBoard, ModelCheckpoint\n",
        "from keras.preprocessing.image import ImageDataGenerator\n",
        "from keras import backend as K\n",
        "# from keras import utils as np_utils\n",
        "from keras.utils import np_utils\n",
        "import sys\n",
        "import os\n",
        "import numpy as np\n",
        "import matplotlib.pyplot as plt"
      ],
      "execution_count": 2,
      "outputs": []
    },
    {
      "cell_type": "markdown",
      "metadata": {
        "id": "MlMNqERo5TZ5"
      },
      "source": [
        "##Scenario with 10 teachers"
      ]
    },
    {
      "cell_type": "code",
      "metadata": {
        "id": "vygfiD4JGqPD"
      },
      "source": [
        "n_instances = 500 \n",
        "n_teachers = 10\n",
        "\n",
        "# load data and transform it\n",
        "(x_train, y_train), (x_test, y_test) = keras.datasets.cifar100.load_data()\n",
        "\n",
        "x_train = x_train.astype( float ) / 255.\n",
        "x_test = x_test.astype( float ) / 255.\n",
        "\n",
        "x_train = x_train.reshape( -1, 32, 32, 3)\n",
        "x_test = x_test.reshape( -1, 32, 32, 3)\n",
        "\n",
        "y_train = keras.utils.np_utils.to_categorical( y_train )\n",
        "y_test = keras.utils.np_utils.to_categorical( y_test )\n",
        "\n",
        "# shuffle data\n",
        "idx = np.arange( len( x_train ) )\n",
        "np.random.shuffle( idx )\n",
        "x_train = x_train[ idx ]\n",
        "y_train = y_train[ idx ]\n",
        "\n",
        "# gather the teacher data\n",
        "teacher_data_x = [ x_train[ i * n_instances : ( i + 1 ) * n_instances ] for i in range( n_teachers ) ]\n",
        "teacher_data_y = [ y_train[ i * n_instances : ( i + 1 ) * n_instances ] for i in range( n_teachers ) ]\n",
        "\n",
        "# gather the student data\n",
        "student_data_x = x_train[ n_teachers * n_instances : ( n_teachers + 1 ) * n_instances ]  \n",
        "student_data_y = y_train[ n_teachers * n_instances : ( n_teachers + 1 ) * n_instances ]  "
      ],
      "execution_count": 3,
      "outputs": []
    },
    {
      "cell_type": "code",
      "metadata": {
        "colab": {
          "base_uri": "https://localhost:8080/"
        },
        "id": "Eu3-eciWIvTh",
        "outputId": "821f8933-7a68-4ed2-e24e-2e03af568797"
      },
      "source": [
        "## train the teacher models\n",
        "# train the teacher models according to cifar100 dataset in tensorflow\n",
        "def get_model():\n",
        "  # Create the model\n",
        "  model = Sequential()\n",
        "  model.add(Conv2D(16, kernel_size=3, activation='relu'))\n",
        "  model.add(Conv2D(16, kernel_size=3, activation='relu'))\n",
        "  model.add(MaxPooling2D(pool_size=(2, 2)))\n",
        "  model.add(Conv2D(32, kernel_size=3, activation='relu'))\n",
        "  model.add(Conv2D(32, (3, 3), activation='relu'))\n",
        "  model.add(MaxPooling2D(pool_size=(2, 2)))\n",
        "  model.add(Flatten())\n",
        "  model.add(Dense(100, activation='softmax'))\n",
        "\n",
        "\n",
        "  model.compile( loss = 'categorical_crossentropy', optimizer = 'adam', metrics = [ 'accuracy' ] )\n",
        "\n",
        "  return model\n",
        "    \n",
        "\n",
        "# list of teacher models\n",
        "teacher_models = [ get_model() for i in range( n_teachers ) ]\n",
        "\n",
        "for i, (model, x, y) in enumerate( zip( teacher_models, teacher_data_x, teacher_data_y ) ):\n",
        "    print( 'teacher', i )\n",
        "    model.fit( x, y, batch_size = 32, epochs = 10, verbose = 0 )\n",
        "    print( 'test accuracy:', model.evaluate( x_test, y_test, verbose = 0 )[ 1 ] )\n",
        "    model.save( '/content/drive/MyDrive/SPAI_projectphase2/teacher_model_{}.h5'.format( i ) )"
      ],
      "execution_count": 4,
      "outputs": [
        {
          "output_type": "stream",
          "name": "stdout",
          "text": [
            "teacher 0\n",
            "test accuracy: 0.05730000138282776\n",
            "teacher 1\n",
            "test accuracy: 0.06030000001192093\n",
            "teacher 2\n",
            "test accuracy: 0.061400000005960464\n",
            "teacher 3\n",
            "test accuracy: 0.0617000013589859\n",
            "teacher 4\n",
            "test accuracy: 0.07109999656677246\n",
            "teacher 5\n",
            "test accuracy: 0.05339999869465828\n",
            "teacher 6\n",
            "test accuracy: 0.0632999986410141\n",
            "teacher 7\n",
            "test accuracy: 0.05460000038146973\n",
            "teacher 8\n",
            "test accuracy: 0.058800000697374344\n",
            "teacher 9\n",
            "test accuracy: 0.06400000303983688\n"
          ]
        }
      ]
    },
    {
      "cell_type": "markdown",
      "metadata": {
        "id": "pMytb6U1Qq9X"
      },
      "source": [
        "### training the student model"
      ]
    },
    {
      "cell_type": "code",
      "metadata": {
        "id": "wqwj9kCiQqbA"
      },
      "source": [
        "# label the data\n",
        "labels = [ teacher.predict( student_data_x ) for teacher in teacher_models ]"
      ],
      "execution_count": 5,
      "outputs": []
    },
    {
      "cell_type": "code",
      "metadata": {
        "id": "B46Gf18fQy3e"
      },
      "source": [
        "# preform the voting\n",
        "votes = np.zeros( ( student_data_x.shape[ 0 ], 100 ), dtype=np.float )\n",
        "for i in range( len( student_data_x ) ):\n",
        "  for j in range( n_teachers ):\n",
        "    label = np.argmax( labels[ j ][ i ] )\n",
        "    votes[ i, label ] += 1\n",
        "  # add the noise per class\n",
        "  for j in range( 10 ):\n",
        "    votes[ i, j ] += np.random.laplace(loc=0.0, scale=5 )"
      ],
      "execution_count": 6,
      "outputs": []
    },
    {
      "cell_type": "code",
      "metadata": {
        "id": "B2QEKC7Anq_-"
      },
      "source": [
        "from keras.utils import np_utils"
      ],
      "execution_count": 7,
      "outputs": []
    },
    {
      "cell_type": "code",
      "metadata": {
        "colab": {
          "base_uri": "https://localhost:8080/"
        },
        "id": "9T3bhdpIn44l",
        "outputId": "7e08ee4b-0084-4972-cef7-18c12f38f169"
      },
      "source": [
        "student_data_x.shape,student_data_y.shape"
      ],
      "execution_count": 8,
      "outputs": [
        {
          "output_type": "execute_result",
          "data": {
            "text/plain": [
              "((500, 32, 32, 3), (500, 100))"
            ]
          },
          "metadata": {},
          "execution_count": 8
        }
      ]
    },
    {
      "cell_type": "code",
      "metadata": {
        "colab": {
          "base_uri": "https://localhost:8080/"
        },
        "id": "Qf3LsX80UWi9",
        "outputId": "059ce3cf-00dc-4e79-e30e-000fb6687344"
      },
      "source": [
        "student_data_y = keras.utils.np_utils.to_categorical( np.argmax( votes, axis=1 ),num_classes=100 )\n",
        "\n",
        "# train model\n",
        "student_model = get_model()\n",
        "print( 'training student model' )\n",
        "student_model.fit( x, y, epochs=16, verbose=0 )\n",
        "print( 'test accuracy:', student_model.evaluate( student_data_x, student_data_y, verbose=0 )[ 1 ] )"
      ],
      "execution_count": 9,
      "outputs": [
        {
          "output_type": "stream",
          "name": "stdout",
          "text": [
            "training student model\n",
            "test accuracy: 0.009999999776482582\n"
          ]
        }
      ]
    },
    {
      "cell_type": "markdown",
      "metadata": {
        "id": "edaN795C5dmz"
      },
      "source": [
        "## Scenario with 20 teachers"
      ]
    },
    {
      "cell_type": "code",
      "metadata": {
        "id": "wrVwjLlZ5dm4"
      },
      "source": [
        "n_instances = 500 \n",
        "n_teachers = 20\n",
        "\n",
        "# load data and transform it\n",
        "(x_train, y_train), (x_test, y_test) = keras.datasets.cifar100.load_data()\n",
        "\n",
        "x_train = x_train.astype( float ) / 255.\n",
        "x_test = x_test.astype( float ) / 255.\n",
        "\n",
        "x_train = x_train.reshape( -1, 32, 32, 3)\n",
        "x_test = x_test.reshape( -1, 32, 32, 3)\n",
        "\n",
        "y_train = keras.utils.np_utils.to_categorical( y_train )\n",
        "y_test = keras.utils.np_utils.to_categorical( y_test )\n",
        "\n",
        "# shuffle data\n",
        "idx = np.arange( len( x_train ) )\n",
        "np.random.shuffle( idx )\n",
        "x_train = x_train[ idx ]\n",
        "y_train = y_train[ idx ]\n",
        "\n",
        "# gather the teacher data\n",
        "teacher_data_x = [ x_train[ i * n_instances : ( i + 1 ) * n_instances ] for i in range( n_teachers ) ]\n",
        "teacher_data_y = [ y_train[ i * n_instances : ( i + 1 ) * n_instances ] for i in range( n_teachers ) ]\n",
        "\n",
        "# gather the student data\n",
        "student_data_x = x_train[ n_teachers * n_instances : ( n_teachers + 1 ) * n_instances ]  \n",
        "student_data_y = y_train[ n_teachers * n_instances : ( n_teachers + 1 ) * n_instances ]  "
      ],
      "execution_count": 10,
      "outputs": []
    },
    {
      "cell_type": "code",
      "metadata": {
        "colab": {
          "base_uri": "https://localhost:8080/"
        },
        "id": "nQO-4gWy5dm9",
        "outputId": "be1bb061-7d74-470d-f333-923ffd14f0fc"
      },
      "source": [
        "## train the teacher models\n",
        "# train the teacher models according to cifar100 dataset in tensorflow\n",
        "def get_model():\n",
        "  # Create the model\n",
        "  model = Sequential()\n",
        "  model.add(Conv2D(16, kernel_size=3, activation='relu'))\n",
        "  model.add(Conv2D(16, kernel_size=3, activation='relu'))\n",
        "  model.add(MaxPooling2D(pool_size=(2, 2)))\n",
        "  model.add(Conv2D(32, kernel_size=3, activation='relu'))\n",
        "  model.add(Conv2D(32, (3, 3), activation='relu'))\n",
        "  model.add(MaxPooling2D(pool_size=(2, 2)))\n",
        "  model.add(Flatten())\n",
        "  model.add(Dense(100, activation='softmax'))\n",
        "\n",
        "\n",
        "  model.compile( loss = 'categorical_crossentropy', optimizer = 'adam', metrics = [ 'accuracy' ] )\n",
        "\n",
        "  return model\n",
        "    \n",
        "\n",
        "# list of teacher models\n",
        "teacher_models = [ get_model() for i in range( n_teachers ) ]\n",
        "\n",
        "for i, (model, x, y) in enumerate( zip( teacher_models, teacher_data_x, teacher_data_y ) ):\n",
        "    print( 'teacher', i )\n",
        "    model.fit( x, y, batch_size = 32, epochs = 10, verbose = 0 )\n",
        "    print( 'test accuracy:', model.evaluate( x_test, y_test, verbose = 0 )[ 1 ] )\n",
        "    model.save( '/content/drive/MyDrive/SPAI_projectphase2/teacher_model_{}.h5'.format( i ) )"
      ],
      "execution_count": 11,
      "outputs": [
        {
          "output_type": "stream",
          "name": "stdout",
          "text": [
            "teacher 0\n",
            "test accuracy: 0.05530000105500221\n",
            "teacher 1\n",
            "test accuracy: 0.06430000066757202\n",
            "teacher 2\n",
            "test accuracy: 0.06759999692440033\n",
            "teacher 3\n",
            "test accuracy: 0.06159999966621399\n",
            "teacher 4\n",
            "test accuracy: 0.05719999969005585\n",
            "teacher 5\n",
            "test accuracy: 0.05869999900460243\n",
            "teacher 6\n",
            "test accuracy: 0.06480000168085098\n",
            "teacher 7\n",
            "test accuracy: 0.04910000041127205\n",
            "teacher 8\n",
            "test accuracy: 0.05380000174045563\n",
            "teacher 9\n",
            "test accuracy: 0.06509999930858612\n",
            "teacher 10\n",
            "test accuracy: 0.05040000006556511\n",
            "teacher 11\n",
            "test accuracy: 0.053300000727176666\n",
            "teacher 12\n",
            "test accuracy: 0.05920000001788139\n",
            "teacher 13\n",
            "test accuracy: 0.05559999868273735\n",
            "teacher 14\n",
            "test accuracy: 0.05869999900460243\n",
            "teacher 15\n",
            "test accuracy: 0.061799999326467514\n",
            "teacher 16\n",
            "test accuracy: 0.04969999939203262\n",
            "teacher 17\n",
            "test accuracy: 0.053199999034404755\n",
            "teacher 18\n",
            "test accuracy: 0.0697999969124794\n",
            "teacher 19\n",
            "test accuracy: 0.05469999834895134\n"
          ]
        }
      ]
    },
    {
      "cell_type": "markdown",
      "metadata": {
        "id": "9MH7vsao5dm9"
      },
      "source": [
        "### training the student model"
      ]
    },
    {
      "cell_type": "code",
      "metadata": {
        "id": "GCeV-_y75dm9"
      },
      "source": [
        "# label the data\n",
        "labels = [ teacher.predict( student_data_x ) for teacher in teacher_models ]"
      ],
      "execution_count": 12,
      "outputs": []
    },
    {
      "cell_type": "code",
      "metadata": {
        "id": "nD78Jcbc5dm9"
      },
      "source": [
        "# preform the voting\n",
        "votes = np.zeros( ( student_data_x.shape[ 0 ], 100 ), dtype=np.float )\n",
        "for i in range( len( student_data_x ) ):\n",
        "  for j in range( n_teachers ):\n",
        "    label = np.argmax( labels[ j ][ i ] )\n",
        "    votes[ i, label ] += 1\n",
        "  # add the noise per class\n",
        "  for j in range( 10 ):\n",
        "    votes[ i, j ] += np.random.laplace(loc=0.0, scale=5 )"
      ],
      "execution_count": 13,
      "outputs": []
    },
    {
      "cell_type": "code",
      "metadata": {
        "id": "-_csFUVt5dm9"
      },
      "source": [
        "from keras.utils import np_utils"
      ],
      "execution_count": 14,
      "outputs": []
    },
    {
      "cell_type": "code",
      "metadata": {
        "colab": {
          "base_uri": "https://localhost:8080/"
        },
        "id": "96AtstWp5dm-",
        "outputId": "dc702c26-0cbb-443c-8592-c033d1528519"
      },
      "source": [
        "student_data_x.shape,student_data_y.shape"
      ],
      "execution_count": 15,
      "outputs": [
        {
          "output_type": "execute_result",
          "data": {
            "text/plain": [
              "((500, 32, 32, 3), (500, 100))"
            ]
          },
          "metadata": {},
          "execution_count": 15
        }
      ]
    },
    {
      "cell_type": "code",
      "metadata": {
        "colab": {
          "base_uri": "https://localhost:8080/"
        },
        "id": "pxVzm8TY5dm-",
        "outputId": "8f1b60ee-b92f-45d5-ae00-905270428a6e"
      },
      "source": [
        "student_data_y = keras.utils.np_utils.to_categorical( np.argmax( votes, axis=1 ),num_classes=100 )\n",
        "\n",
        "# train model\n",
        "student_model = get_model()\n",
        "print( 'training student model' )\n",
        "student_model.fit( x, y, epochs=16, verbose=0 )\n",
        "print( 'test accuracy:', student_model.evaluate( student_data_x, student_data_y, verbose=0 )[ 1 ] )"
      ],
      "execution_count": 16,
      "outputs": [
        {
          "output_type": "stream",
          "name": "stdout",
          "text": [
            "training student model\n",
            "test accuracy: 0.02800000086426735\n"
          ]
        }
      ]
    },
    {
      "cell_type": "markdown",
      "metadata": {
        "id": "Yx3G4D3G5u0D"
      },
      "source": [
        "## Scenario with 50 teachers"
      ]
    },
    {
      "cell_type": "code",
      "metadata": {
        "id": "vf8K-scv5u0L"
      },
      "source": [
        "n_instances = 500 \n",
        "n_teachers = 50\n",
        "\n",
        "# load data and transform it\n",
        "(x_train, y_train), (x_test, y_test) = keras.datasets.cifar100.load_data()\n",
        "\n",
        "x_train = x_train.astype( float ) / 255.\n",
        "x_test = x_test.astype( float ) / 255.\n",
        "\n",
        "x_train = x_train.reshape( -1, 32, 32, 3)\n",
        "x_test = x_test.reshape( -1, 32, 32, 3)\n",
        "\n",
        "y_train = keras.utils.np_utils.to_categorical( y_train )\n",
        "y_test = keras.utils.np_utils.to_categorical( y_test )\n",
        "\n",
        "# shuffle data\n",
        "idx = np.arange( len( x_train ) )\n",
        "np.random.shuffle( idx )\n",
        "x_train = x_train[ idx ]\n",
        "y_train = y_train[ idx ]\n",
        "\n",
        "# gather the teacher data\n",
        "teacher_data_x = [ x_train[ i * n_instances : ( i + 1 ) * n_instances ] for i in range( n_teachers ) ]\n",
        "teacher_data_y = [ y_train[ i * n_instances : ( i + 1 ) * n_instances ] for i in range( n_teachers ) ]\n",
        "\n",
        "# gather the student data\n",
        "student_data_x = x_train[ n_teachers * n_instances : ( n_teachers + 1 ) * n_instances ]  \n",
        "student_data_y = y_train[ n_teachers * n_instances : ( n_teachers + 1 ) * n_instances ]  "
      ],
      "execution_count": 17,
      "outputs": []
    },
    {
      "cell_type": "code",
      "metadata": {
        "colab": {
          "base_uri": "https://localhost:8080/"
        },
        "id": "wP9-L67G5u0L",
        "outputId": "2000671e-bd98-4644-a6fc-8a8ce596e02f"
      },
      "source": [
        "## train the teacher models\n",
        "# train the teacher models according to cifar100 dataset in tensorflow\n",
        "def get_model():\n",
        "  # Create the model\n",
        "  model = Sequential()\n",
        "  model.add(Conv2D(16, kernel_size=3, activation='relu'))\n",
        "  model.add(Conv2D(16, kernel_size=3, activation='relu'))\n",
        "  model.add(MaxPooling2D(pool_size=(2, 2)))\n",
        "  model.add(Conv2D(32, kernel_size=3, activation='relu'))\n",
        "  model.add(Conv2D(32, (3, 3), activation='relu'))\n",
        "  model.add(MaxPooling2D(pool_size=(2, 2)))\n",
        "  model.add(Flatten())\n",
        "  model.add(Dense(100, activation='softmax'))\n",
        "\n",
        "\n",
        "  model.compile( loss = 'categorical_crossentropy', optimizer = 'adam', metrics = [ 'accuracy' ] )\n",
        "\n",
        "  return model\n",
        "    \n",
        "\n",
        "# list of teacher models\n",
        "teacher_models = [ get_model() for i in range( n_teachers ) ]\n",
        "\n",
        "for i, (model, x, y) in enumerate( zip( teacher_models, teacher_data_x, teacher_data_y ) ):\n",
        "    print( 'teacher', i )\n",
        "    model.fit( x, y, batch_size = 32, epochs = 10, verbose = 0 )\n",
        "    print( 'test accuracy:', model.evaluate( x_test, y_test, verbose = 0 )[ 1 ] )\n",
        "    model.save( '/content/drive/MyDrive/SPAI_projectphase2/teacher_model_{}.h5'.format( i ) )"
      ],
      "execution_count": 18,
      "outputs": [
        {
          "output_type": "stream",
          "name": "stdout",
          "text": [
            "teacher 0\n",
            "test accuracy: 0.05959999933838844\n",
            "teacher 1\n",
            "test accuracy: 0.05790000036358833\n",
            "teacher 2\n",
            "test accuracy: 0.05979999899864197\n",
            "teacher 3\n",
            "test accuracy: 0.06719999760389328\n",
            "teacher 4\n",
            "test accuracy: 0.05889999866485596\n",
            "teacher 5\n",
            "test accuracy: 0.06379999965429306\n",
            "teacher 6\n",
            "test accuracy: 0.045499999076128006\n",
            "teacher 7\n",
            "test accuracy: 0.051600001752376556\n",
            "teacher 8\n",
            "test accuracy: 0.05820000171661377\n",
            "teacher 9\n",
            "test accuracy: 0.055799998342990875\n",
            "teacher 10\n",
            "test accuracy: 0.058800000697374344\n",
            "teacher 11\n",
            "test accuracy: 0.049400001764297485\n",
            "teacher 12\n",
            "test accuracy: 0.06310000270605087\n",
            "teacher 13\n",
            "test accuracy: 0.05429999902844429\n",
            "teacher 14\n",
            "test accuracy: 0.05689999833703041\n",
            "teacher 15\n",
            "test accuracy: 0.05820000171661377\n",
            "teacher 16\n",
            "test accuracy: 0.06109999865293503\n",
            "teacher 17\n",
            "test accuracy: 0.053199999034404755\n",
            "teacher 18\n",
            "test accuracy: 0.05939999967813492\n",
            "teacher 19\n",
            "test accuracy: 0.05400000140070915\n",
            "teacher 20\n",
            "test accuracy: 0.05510000139474869\n",
            "teacher 21\n",
            "test accuracy: 0.06759999692440033\n",
            "teacher 22\n",
            "test accuracy: 0.058400001376867294\n",
            "teacher 23\n",
            "test accuracy: 0.0649000033736229\n",
            "teacher 24\n",
            "test accuracy: 0.05829999968409538\n",
            "teacher 25\n",
            "test accuracy: 0.05270000174641609\n",
            "teacher 26\n",
            "test accuracy: 0.06589999794960022\n",
            "teacher 27\n",
            "test accuracy: 0.057500001043081284\n",
            "teacher 28\n",
            "test accuracy: 0.05559999868273735\n",
            "teacher 29\n",
            "test accuracy: 0.06469999998807907\n",
            "teacher 30\n",
            "test accuracy: 0.050700001418590546\n",
            "teacher 31\n",
            "test accuracy: 0.05900000035762787\n",
            "teacher 32\n",
            "test accuracy: 0.05609999969601631\n",
            "teacher 33\n",
            "test accuracy: 0.058400001376867294\n",
            "teacher 34\n",
            "test accuracy: 0.06129999831318855\n",
            "teacher 35\n",
            "test accuracy: 0.06270000338554382\n",
            "teacher 36\n",
            "test accuracy: 0.06599999964237213\n",
            "teacher 37\n",
            "test accuracy: 0.05609999969601631\n",
            "teacher 38\n",
            "test accuracy: 0.05550000071525574\n",
            "teacher 39\n",
            "test accuracy: 0.05779999867081642\n",
            "teacher 40\n",
            "test accuracy: 0.05869999900460243\n",
            "teacher 41\n",
            "test accuracy: 0.05810000002384186\n",
            "teacher 42\n",
            "test accuracy: 0.05920000001788139\n",
            "teacher 43\n",
            "test accuracy: 0.060499999672174454\n",
            "teacher 44\n",
            "test accuracy: 0.07280000299215317\n",
            "teacher 45\n",
            "test accuracy: 0.06589999794960022\n",
            "teacher 46\n",
            "test accuracy: 0.05889999866485596\n",
            "teacher 47\n",
            "test accuracy: 0.05909999832510948\n",
            "teacher 48\n",
            "test accuracy: 0.04820000007748604\n",
            "teacher 49\n",
            "test accuracy: 0.06019999831914902\n"
          ]
        }
      ]
    },
    {
      "cell_type": "markdown",
      "metadata": {
        "id": "D1xHDkOR5u0M"
      },
      "source": [
        "### training the student model"
      ]
    },
    {
      "cell_type": "code",
      "metadata": {
        "id": "ycYl35pg5u0M"
      },
      "source": [
        "# label the data\n",
        "labels = [ teacher.predict( student_data_x ) for teacher in teacher_models ]"
      ],
      "execution_count": 19,
      "outputs": []
    },
    {
      "cell_type": "code",
      "metadata": {
        "id": "mVVv8a-f5u0M"
      },
      "source": [
        "# preform the voting\n",
        "votes = np.zeros( ( student_data_x.shape[ 0 ], 100 ), dtype=np.float )\n",
        "for i in range( len( student_data_x ) ):\n",
        "  for j in range( n_teachers ):\n",
        "    label = np.argmax( labels[ j ][ i ] )\n",
        "    votes[ i, label ] += 1\n",
        "  # add the noise per class\n",
        "  for j in range( 10 ):\n",
        "    votes[ i, j ] += np.random.laplace(loc=0.0, scale=5 )"
      ],
      "execution_count": 20,
      "outputs": []
    },
    {
      "cell_type": "code",
      "metadata": {
        "id": "P-uLStxp5u0M"
      },
      "source": [
        "from keras.utils import np_utils"
      ],
      "execution_count": 21,
      "outputs": []
    },
    {
      "cell_type": "code",
      "metadata": {
        "colab": {
          "base_uri": "https://localhost:8080/"
        },
        "id": "etILfCH55u0M",
        "outputId": "fc208fa4-29f4-464f-fcd1-824c81ae377e"
      },
      "source": [
        "student_data_x.shape,student_data_y.shape"
      ],
      "execution_count": 22,
      "outputs": [
        {
          "output_type": "execute_result",
          "data": {
            "text/plain": [
              "((500, 32, 32, 3), (500, 100))"
            ]
          },
          "metadata": {},
          "execution_count": 22
        }
      ]
    },
    {
      "cell_type": "code",
      "metadata": {
        "colab": {
          "base_uri": "https://localhost:8080/"
        },
        "id": "SdY_VBZn5u0M",
        "outputId": "3b1c2b4d-7712-4ff7-c6b1-491faf7a3b52"
      },
      "source": [
        "student_data_y = keras.utils.np_utils.to_categorical( np.argmax( votes, axis=1 ),num_classes=100 )\n",
        "\n",
        "# train model\n",
        "student_model = get_model()\n",
        "print( 'training student model' )\n",
        "student_model.fit( x, y, epochs=16, verbose=0 )\n",
        "print( 'test accuracy:', student_model.evaluate( student_data_x, student_data_y, verbose=0 )[ 1 ] )"
      ],
      "execution_count": 23,
      "outputs": [
        {
          "output_type": "stream",
          "name": "stdout",
          "text": [
            "training student model\n",
            "test accuracy: 0.04399999976158142\n"
          ]
        }
      ]
    },
    {
      "cell_type": "markdown",
      "metadata": {
        "id": "soNPGqeA52BH"
      },
      "source": [
        "## Scenario with 100 teachers"
      ]
    },
    {
      "cell_type": "code",
      "metadata": {
        "id": "NX2IcZcL52BI"
      },
      "source": [
        "n_instances = 300 \n",
        "n_teachers = 100\n",
        "\n",
        "# load data and transform it\n",
        "(x_train, y_train), (x_test, y_test) = keras.datasets.cifar100.load_data()\n",
        "\n",
        "x_train = x_train.astype( float ) / 255.\n",
        "x_test = x_test.astype( float ) / 255.\n",
        "\n",
        "x_train = x_train.reshape( -1, 32, 32, 3)\n",
        "x_test = x_test.reshape( -1, 32, 32, 3)\n",
        "\n",
        "y_train = keras.utils.np_utils.to_categorical( y_train )\n",
        "y_test = keras.utils.np_utils.to_categorical( y_test )\n",
        "\n",
        "# shuffle data\n",
        "idx = np.arange( len( x_train ) )\n",
        "np.random.shuffle( idx )\n",
        "x_train = x_train[ idx ]\n",
        "y_train = y_train[ idx ]\n",
        "\n",
        "# gather the teacher data\n",
        "teacher_data_x = [ x_train[ i * n_instances : ( i + 1 ) * n_instances ] for i in range( n_teachers ) ]\n",
        "teacher_data_y = [ y_train[ i * n_instances : ( i + 1 ) * n_instances ] for i in range( n_teachers ) ]\n",
        "\n",
        "# gather the student data\n",
        "student_data_x = x_train[ n_teachers * n_instances : ( n_teachers + 1 ) * n_instances ]  \n",
        "student_data_y = y_train[ n_teachers * n_instances : ( n_teachers + 1 ) * n_instances ]  "
      ],
      "execution_count": 30,
      "outputs": []
    },
    {
      "cell_type": "code",
      "metadata": {
        "colab": {
          "base_uri": "https://localhost:8080/"
        },
        "id": "Oj6UvAtw52BJ",
        "outputId": "ef159969-1b33-4dc5-ec2c-e632ceb5cb67"
      },
      "source": [
        "## train the teacher models\n",
        "# train the teacher models according to cifar100 dataset in tensorflow\n",
        "def get_model():\n",
        "  # Create the model\n",
        "  model = Sequential()\n",
        "  model.add(Conv2D(16, kernel_size=3, activation='relu'))\n",
        "  model.add(Conv2D(16, kernel_size=3, activation='relu'))\n",
        "  model.add(MaxPooling2D(pool_size=(2, 2)))\n",
        "  model.add(Conv2D(32, kernel_size=3, activation='relu'))\n",
        "  model.add(Conv2D(32, (3, 3), activation='relu'))\n",
        "  model.add(MaxPooling2D(pool_size=(2, 2)))\n",
        "  model.add(Flatten())\n",
        "  model.add(Dense(100, activation='softmax'))\n",
        "\n",
        "\n",
        "  model.compile( loss = 'categorical_crossentropy', optimizer = 'adam', metrics = [ 'accuracy' ] )\n",
        "\n",
        "  return model\n",
        "    \n",
        "\n",
        "# list of teacher models\n",
        "teacher_models = [ get_model() for i in range( n_teachers ) ]\n",
        "\n",
        "for i, (model, x, y) in enumerate( zip( teacher_models, teacher_data_x, teacher_data_y ) ):\n",
        "    print( 'teacher', i )\n",
        "    model.fit( x, y, batch_size = 32, epochs = 10, verbose = 0 )\n",
        "    print( 'test accuracy:', model.evaluate( x_test, y_test, verbose = 0 )[ 1 ] )\n",
        "    model.save( '/content/drive/MyDrive/SPAI_projectphase2/teacher_model_{}.h5'.format( i ) )"
      ],
      "execution_count": 28,
      "outputs": [
        {
          "output_type": "stream",
          "name": "stdout",
          "text": [
            "teacher 0\n",
            "test accuracy: 0.06480000168085098\n",
            "teacher 1\n",
            "test accuracy: 0.05559999868273735\n",
            "teacher 2\n",
            "test accuracy: 0.05290000140666962\n",
            "teacher 3\n",
            "test accuracy: 0.06549999862909317\n",
            "teacher 4\n",
            "test accuracy: 0.05999999865889549\n",
            "teacher 5\n",
            "test accuracy: 0.0632999986410141\n",
            "teacher 6\n",
            "test accuracy: 0.05770000070333481\n",
            "teacher 7\n",
            "test accuracy: 0.05009999871253967\n",
            "teacher 8\n",
            "test accuracy: 0.05139999836683273\n",
            "teacher 9\n",
            "test accuracy: 0.05530000105500221\n",
            "teacher 10\n",
            "test accuracy: 0.05380000174045563\n",
            "teacher 11\n",
            "test accuracy: 0.05400000140070915\n",
            "teacher 12\n",
            "test accuracy: 0.06069999933242798\n",
            "teacher 13\n",
            "test accuracy: 0.05480000004172325\n",
            "teacher 14\n",
            "test accuracy: 0.05770000070333481\n",
            "teacher 15\n",
            "test accuracy: 0.05649999901652336\n",
            "teacher 16\n",
            "test accuracy: 0.0544000007212162\n",
            "teacher 17\n",
            "test accuracy: 0.059300001710653305\n",
            "teacher 18\n",
            "test accuracy: 0.0575999990105629\n",
            "teacher 19\n",
            "test accuracy: 0.05909999832510948\n",
            "teacher 20\n",
            "test accuracy: 0.04899999871850014\n",
            "teacher 21\n",
            "test accuracy: 0.05640000104904175\n",
            "teacher 22\n",
            "test accuracy: 0.05119999870657921\n",
            "teacher 23\n",
            "test accuracy: 0.06040000170469284\n",
            "teacher 24\n",
            "test accuracy: 0.0608999989926815\n",
            "teacher 25\n",
            "test accuracy: 0.057500001043081284\n",
            "teacher 26\n",
            "test accuracy: 0.06599999964237213\n",
            "teacher 27\n",
            "test accuracy: 0.06260000169277191\n",
            "teacher 28\n",
            "test accuracy: 0.05999999865889549\n",
            "teacher 29\n",
            "test accuracy: 0.05770000070333481\n",
            "teacher 30\n",
            "test accuracy: 0.05550000071525574\n",
            "teacher 31\n",
            "test accuracy: 0.06369999796152115\n",
            "teacher 32\n",
            "test accuracy: 0.07150000333786011\n",
            "teacher 33\n",
            "test accuracy: 0.06719999760389328\n",
            "teacher 34\n",
            "test accuracy: 0.05420000106096268\n",
            "teacher 35\n",
            "test accuracy: 0.05249999836087227\n",
            "teacher 36\n",
            "test accuracy: 0.0471000000834465\n",
            "teacher 37\n",
            "test accuracy: 0.06469999998807907\n",
            "teacher 38\n",
            "test accuracy: 0.05350000038743019\n",
            "teacher 39\n",
            "test accuracy: 0.054999999701976776\n",
            "teacher 40\n",
            "test accuracy: 0.06560000032186508\n",
            "teacher 41\n",
            "test accuracy: 0.058400001376867294\n",
            "teacher 42\n",
            "test accuracy: 0.06610000133514404\n",
            "teacher 43\n",
            "test accuracy: 0.06279999762773514\n",
            "teacher 44\n",
            "test accuracy: 0.05869999900460243\n",
            "teacher 45\n",
            "test accuracy: 0.05119999870657921\n",
            "teacher 46\n",
            "test accuracy: 0.06459999829530716\n",
            "teacher 47\n",
            "test accuracy: 0.05469999834895134\n",
            "teacher 48\n",
            "test accuracy: 0.05810000002384186\n",
            "teacher 49\n",
            "test accuracy: 0.06210000067949295\n",
            "teacher 50\n",
            "test accuracy: 0.06769999861717224\n",
            "teacher 51\n",
            "test accuracy: 0.06279999762773514\n",
            "teacher 52\n",
            "test accuracy: 0.05730000138282776\n",
            "teacher 53\n",
            "test accuracy: 0.06040000170469284\n",
            "teacher 54\n",
            "test accuracy: 0.058800000697374344\n",
            "teacher 55\n",
            "test accuracy: 0.05480000004172325\n",
            "teacher 56\n",
            "test accuracy: 0.051899999380111694\n",
            "teacher 57\n",
            "test accuracy: 0.05649999901652336\n",
            "teacher 58\n",
            "test accuracy: 0.05299999937415123\n",
            "teacher 59\n",
            "test accuracy: 0.05180000141263008\n",
            "teacher 60\n",
            "test accuracy: 0.06530000269412994\n",
            "teacher 61\n",
            "test accuracy: 0.05950000137090683\n",
            "teacher 62\n",
            "test accuracy: 0.06710000336170197\n",
            "teacher 63\n",
            "test accuracy: 0.05490000173449516\n",
            "teacher 64\n",
            "test accuracy: 0.06239999830722809\n",
            "teacher 65\n",
            "test accuracy: 0.06859999895095825\n",
            "teacher 66\n",
            "test accuracy: 0.0568000003695488\n",
            "teacher 67\n",
            "test accuracy: 0.06390000134706497\n",
            "teacher 68\n",
            "test accuracy: 0.051899999380111694\n",
            "teacher 69\n",
            "test accuracy: 0.06120000034570694\n",
            "teacher 70\n",
            "test accuracy: 0.06700000166893005\n",
            "teacher 71\n",
            "test accuracy: 0.05939999967813492\n",
            "teacher 72\n",
            "test accuracy: 0.06289999932050705\n",
            "teacher 73\n",
            "test accuracy: 0.05979999899864197\n",
            "teacher 74\n",
            "test accuracy: 0.05620000138878822\n",
            "teacher 75\n",
            "test accuracy: 0.05490000173449516\n",
            "teacher 76\n",
            "test accuracy: 0.0575999990105629\n",
            "teacher 77\n",
            "test accuracy: 0.053599998354911804\n",
            "teacher 78\n",
            "test accuracy: 0.045499999076128006\n",
            "teacher 79\n",
            "test accuracy: 0.060100000351667404\n",
            "teacher 80\n",
            "test accuracy: 0.05900000035762787\n",
            "teacher 81\n",
            "test accuracy: 0.05380000174045563\n",
            "teacher 82\n",
            "test accuracy: 0.053199999034404755\n",
            "teacher 83\n",
            "test accuracy: 0.066600002348423\n",
            "teacher 84\n",
            "test accuracy: 0.06300000101327896\n",
            "teacher 85\n",
            "test accuracy: 0.06019999831914902\n",
            "teacher 86\n",
            "test accuracy: 0.06430000066757202\n",
            "teacher 87\n",
            "test accuracy: 0.05310000106692314\n",
            "teacher 88\n",
            "test accuracy: 0.06210000067949295\n",
            "teacher 89\n",
            "test accuracy: 0.060600001364946365\n",
            "teacher 90\n",
            "test accuracy: 0.059700001031160355\n",
            "teacher 91\n",
            "test accuracy: 0.05180000141263008\n",
            "teacher 92\n",
            "test accuracy: 0.05550000071525574\n",
            "teacher 93\n",
            "test accuracy: 0.05079999938607216\n",
            "teacher 94\n",
            "test accuracy: 0.05389999970793724\n",
            "teacher 95\n",
            "test accuracy: 0.05299999937415123\n",
            "teacher 96\n",
            "test accuracy: 0.06350000202655792\n",
            "teacher 97\n",
            "test accuracy: 0.05869999900460243\n",
            "teacher 98\n",
            "test accuracy: 0.059300001710653305\n",
            "teacher 99\n",
            "test accuracy: 0.05849999934434891\n"
          ]
        }
      ]
    },
    {
      "cell_type": "markdown",
      "metadata": {
        "id": "9X9YEFUQ52BK"
      },
      "source": [
        "### training the student model"
      ]
    },
    {
      "cell_type": "code",
      "metadata": {
        "id": "nnjhkZxj52BK"
      },
      "source": [
        "# label the data\n",
        "labels = [ teacher.predict( student_data_x ) for teacher in teacher_models ]"
      ],
      "execution_count": 31,
      "outputs": []
    },
    {
      "cell_type": "code",
      "metadata": {
        "id": "WzZzC8wo52BL"
      },
      "source": [
        "# preform the voting\n",
        "votes = np.zeros( ( student_data_x.shape[ 0 ], 100 ), dtype=np.float )\n",
        "for i in range( len( student_data_x ) ):\n",
        "  for j in range( n_teachers ):\n",
        "    label = np.argmax( labels[ j ][ i ] )\n",
        "    votes[ i, label ] += 1\n",
        "  # add the noise per class\n",
        "  for j in range( 10 ):\n",
        "    votes[ i, j ] += np.random.laplace(loc=0.0, scale=5 )"
      ],
      "execution_count": 32,
      "outputs": []
    },
    {
      "cell_type": "code",
      "metadata": {
        "id": "aMLiuhkv52BM"
      },
      "source": [
        "from keras.utils import np_utils"
      ],
      "execution_count": 33,
      "outputs": []
    },
    {
      "cell_type": "code",
      "metadata": {
        "colab": {
          "base_uri": "https://localhost:8080/"
        },
        "id": "FawcNuF052BO",
        "outputId": "b499eaaf-2e98-4a63-c558-8e56f6570ca8"
      },
      "source": [
        "student_data_x.shape,student_data_y.shape"
      ],
      "execution_count": 34,
      "outputs": [
        {
          "output_type": "execute_result",
          "data": {
            "text/plain": [
              "((300, 32, 32, 3), (300, 100))"
            ]
          },
          "metadata": {},
          "execution_count": 34
        }
      ]
    },
    {
      "cell_type": "code",
      "metadata": {
        "colab": {
          "base_uri": "https://localhost:8080/"
        },
        "id": "3g3Qsamb52BO",
        "outputId": "c8ec934c-6759-4be4-8dab-81c08a2cc091"
      },
      "source": [
        "student_data_y = keras.utils.np_utils.to_categorical( np.argmax( votes, axis=1 ),num_classes=100 )\n",
        "\n",
        "# train model\n",
        "student_model = get_model()\n",
        "print( 'training student model' )\n",
        "student_model.fit( x, y, epochs=16, verbose=0 )\n",
        "print( 'test accuracy:', student_model.evaluate( student_data_x, student_data_y, verbose=0 )[ 1 ] )"
      ],
      "execution_count": 35,
      "outputs": [
        {
          "output_type": "stream",
          "name": "stdout",
          "text": [
            "training student model\n",
            "test accuracy: 0.05666666850447655\n"
          ]
        }
      ]
    }
  ]
}